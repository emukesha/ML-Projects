{
 "cells": [
  {
   "cell_type": "markdown",
   "metadata": {},
   "source": [
    "# Question 1"
   ]
  },
  {
   "cell_type": "code",
   "execution_count": 1,
   "metadata": {},
   "outputs": [],
   "source": [
    "import pandas as pd\n",
    "import numpy as np\n",
    "import scipy.stats as stats\n",
    "import matplotlib.pyplot as plt\n",
    "from sklearn import linear_model"
   ]
  },
  {
   "cell_type": "markdown",
   "metadata": {},
   "source": [
    "FTSE100 is the dependent variable and monthly House price returns is the independent variable."
   ]
  },
  {
   "cell_type": "markdown",
   "metadata": {},
   "source": [
    "# Extracting the House price data"
   ]
  },
  {
   "cell_type": "code",
   "execution_count": 2,
   "metadata": {},
   "outputs": [
    {
     "data": {
      "text/html": [
       "<div>\n",
       "<style scoped>\n",
       "    .dataframe tbody tr th:only-of-type {\n",
       "        vertical-align: middle;\n",
       "    }\n",
       "\n",
       "    .dataframe tbody tr th {\n",
       "        vertical-align: top;\n",
       "    }\n",
       "\n",
       "    .dataframe thead th {\n",
       "        text-align: right;\n",
       "    }\n",
       "</style>\n",
       "<table border=\"1\" class=\"dataframe\">\n",
       "  <thead>\n",
       "    <tr style=\"text-align: right;\">\n",
       "      <th></th>\n",
       "      <th>Dates</th>\n",
       "      <th>Average House Price</th>\n",
       "      <th>INDEX Q1 1993=100</th>\n",
       "      <th>Seasonally Adjusted Index</th>\n",
       "      <th>Monthly % Change (SA)</th>\n",
       "      <th>Year % Change</th>\n",
       "      <th>Latest 3 months on previous 3 months</th>\n",
       "    </tr>\n",
       "  </thead>\n",
       "  <tbody>\n",
       "    <tr>\n",
       "      <th>0</th>\n",
       "      <td>1991-01-01</td>\n",
       "      <td>53051.721106</td>\n",
       "      <td>105.832511</td>\n",
       "      <td>107.127299</td>\n",
       "      <td>NaN</td>\n",
       "      <td>NaN</td>\n",
       "      <td>NaN</td>\n",
       "    </tr>\n",
       "    <tr>\n",
       "      <th>1</th>\n",
       "      <td>1991-02-01</td>\n",
       "      <td>53496.798746</td>\n",
       "      <td>106.720393</td>\n",
       "      <td>107.494996</td>\n",
       "      <td>0.003432</td>\n",
       "      <td>NaN</td>\n",
       "      <td>NaN</td>\n",
       "    </tr>\n",
       "    <tr>\n",
       "      <th>2</th>\n",
       "      <td>1991-03-01</td>\n",
       "      <td>52892.861606</td>\n",
       "      <td>105.515603</td>\n",
       "      <td>106.525649</td>\n",
       "      <td>-0.009018</td>\n",
       "      <td>NaN</td>\n",
       "      <td>NaN</td>\n",
       "    </tr>\n",
       "    <tr>\n",
       "      <th>3</th>\n",
       "      <td>1991-04-01</td>\n",
       "      <td>53677.435270</td>\n",
       "      <td>107.080744</td>\n",
       "      <td>107.126622</td>\n",
       "      <td>0.005642</td>\n",
       "      <td>NaN</td>\n",
       "      <td>NaN</td>\n",
       "    </tr>\n",
       "    <tr>\n",
       "      <th>4</th>\n",
       "      <td>1991-05-01</td>\n",
       "      <td>54385.726747</td>\n",
       "      <td>108.493710</td>\n",
       "      <td>107.266757</td>\n",
       "      <td>0.001308</td>\n",
       "      <td>NaN</td>\n",
       "      <td>NaN</td>\n",
       "    </tr>\n",
       "  </tbody>\n",
       "</table>\n",
       "</div>"
      ],
      "text/plain": [
       "       Dates  Average House Price  INDEX Q1 1993=100  \\\n",
       "0 1991-01-01         53051.721106         105.832511   \n",
       "1 1991-02-01         53496.798746         106.720393   \n",
       "2 1991-03-01         52892.861606         105.515603   \n",
       "3 1991-04-01         53677.435270         107.080744   \n",
       "4 1991-05-01         54385.726747         108.493710   \n",
       "\n",
       "   Seasonally Adjusted Index  Monthly % Change (SA)  Year % Change  \\\n",
       "0                 107.127299                    NaN            NaN   \n",
       "1                 107.494996               0.003432            NaN   \n",
       "2                 106.525649              -0.009018            NaN   \n",
       "3                 107.126622               0.005642            NaN   \n",
       "4                 107.266757               0.001308            NaN   \n",
       "\n",
       "   Latest 3 months on previous 3 months  \n",
       "0                                   NaN  \n",
       "1                                   NaN  \n",
       "2                                   NaN  \n",
       "3                                   NaN  \n",
       "4                                   NaN  "
      ]
     },
     "execution_count": 2,
     "metadata": {},
     "output_type": "execute_result"
    }
   ],
   "source": [
    "house_price = pd.read_excel(\"monthly.xls\")\n",
    "house_price.rename(columns={\"Unnamed: 0\":\"Dates\"}, inplace=True)\n",
    "house_price.head()"
   ]
  },
  {
   "cell_type": "code",
   "execution_count": 3,
   "metadata": {},
   "outputs": [
    {
     "data": {
      "text/html": [
       "<div>\n",
       "<style scoped>\n",
       "    .dataframe tbody tr th:only-of-type {\n",
       "        vertical-align: middle;\n",
       "    }\n",
       "\n",
       "    .dataframe tbody tr th {\n",
       "        vertical-align: top;\n",
       "    }\n",
       "\n",
       "    .dataframe thead th {\n",
       "        text-align: right;\n",
       "    }\n",
       "</style>\n",
       "<table border=\"1\" class=\"dataframe\">\n",
       "  <thead>\n",
       "    <tr style=\"text-align: right;\">\n",
       "      <th></th>\n",
       "      <th>Dates</th>\n",
       "      <th>Average House Price</th>\n",
       "      <th>INDEX Q1 1993=100</th>\n",
       "      <th>Seasonally Adjusted Index</th>\n",
       "      <th>Monthly % Change (SA)</th>\n",
       "      <th>Year % Change</th>\n",
       "      <th>Latest 3 months on previous 3 months</th>\n",
       "    </tr>\n",
       "  </thead>\n",
       "  <tbody>\n",
       "    <tr>\n",
       "      <th>0</th>\n",
       "      <td>1991-01-01</td>\n",
       "      <td>53051.721106</td>\n",
       "      <td>105.832511</td>\n",
       "      <td>107.127299</td>\n",
       "      <td>NaN</td>\n",
       "      <td>NaN</td>\n",
       "      <td>NaN</td>\n",
       "    </tr>\n",
       "    <tr>\n",
       "      <th>1</th>\n",
       "      <td>1991-02-01</td>\n",
       "      <td>53496.798746</td>\n",
       "      <td>106.720393</td>\n",
       "      <td>107.494996</td>\n",
       "      <td>0.003432</td>\n",
       "      <td>NaN</td>\n",
       "      <td>NaN</td>\n",
       "    </tr>\n",
       "    <tr>\n",
       "      <th>2</th>\n",
       "      <td>1991-03-01</td>\n",
       "      <td>52892.861606</td>\n",
       "      <td>105.515603</td>\n",
       "      <td>106.525649</td>\n",
       "      <td>-0.009018</td>\n",
       "      <td>NaN</td>\n",
       "      <td>NaN</td>\n",
       "    </tr>\n",
       "    <tr>\n",
       "      <th>3</th>\n",
       "      <td>1991-04-01</td>\n",
       "      <td>53677.435270</td>\n",
       "      <td>107.080744</td>\n",
       "      <td>107.126622</td>\n",
       "      <td>0.005642</td>\n",
       "      <td>NaN</td>\n",
       "      <td>NaN</td>\n",
       "    </tr>\n",
       "    <tr>\n",
       "      <th>4</th>\n",
       "      <td>1991-05-01</td>\n",
       "      <td>54385.726747</td>\n",
       "      <td>108.493710</td>\n",
       "      <td>107.266757</td>\n",
       "      <td>0.001308</td>\n",
       "      <td>NaN</td>\n",
       "      <td>NaN</td>\n",
       "    </tr>\n",
       "  </tbody>\n",
       "</table>\n",
       "</div>"
      ],
      "text/plain": [
       "       Dates  Average House Price  INDEX Q1 1993=100  \\\n",
       "0 1991-01-01         53051.721106         105.832511   \n",
       "1 1991-02-01         53496.798746         106.720393   \n",
       "2 1991-03-01         52892.861606         105.515603   \n",
       "3 1991-04-01         53677.435270         107.080744   \n",
       "4 1991-05-01         54385.726747         108.493710   \n",
       "\n",
       "   Seasonally Adjusted Index  Monthly % Change (SA)  Year % Change  \\\n",
       "0                 107.127299                    NaN            NaN   \n",
       "1                 107.494996               0.003432            NaN   \n",
       "2                 106.525649              -0.009018            NaN   \n",
       "3                 107.126622               0.005642            NaN   \n",
       "4                 107.266757               0.001308            NaN   \n",
       "\n",
       "   Latest 3 months on previous 3 months  \n",
       "0                                   NaN  \n",
       "1                                   NaN  \n",
       "2                                   NaN  \n",
       "3                                   NaN  \n",
       "4                                   NaN  "
      ]
     },
     "execution_count": 3,
     "metadata": {},
     "output_type": "execute_result"
    }
   ],
   "source": [
    "house_1991_2016= house_price.iloc[:312]\n",
    "house_1991_2016.head()"
   ]
  },
  {
   "cell_type": "markdown",
   "metadata": {},
   "source": [
    "# Extracting the FTSE100 index data"
   ]
  },
  {
   "cell_type": "code",
   "execution_count": 4,
   "metadata": {},
   "outputs": [
    {
     "data": {
      "text/html": [
       "<div>\n",
       "<style scoped>\n",
       "    .dataframe tbody tr th:only-of-type {\n",
       "        vertical-align: middle;\n",
       "    }\n",
       "\n",
       "    .dataframe tbody tr th {\n",
       "        vertical-align: top;\n",
       "    }\n",
       "\n",
       "    .dataframe thead th {\n",
       "        text-align: right;\n",
       "    }\n",
       "</style>\n",
       "<table border=\"1\" class=\"dataframe\">\n",
       "  <thead>\n",
       "    <tr style=\"text-align: right;\">\n",
       "      <th></th>\n",
       "      <th>Date</th>\n",
       "      <th>Open</th>\n",
       "      <th>High</th>\n",
       "      <th>Low</th>\n",
       "      <th>Close</th>\n",
       "      <th>Adj Close</th>\n",
       "      <th>Volume</th>\n",
       "    </tr>\n",
       "  </thead>\n",
       "  <tbody>\n",
       "    <tr>\n",
       "      <th>0</th>\n",
       "      <td>1991-01-01</td>\n",
       "      <td>2143.500000</td>\n",
       "      <td>2182.100098</td>\n",
       "      <td>2052.300049</td>\n",
       "      <td>2170.300049</td>\n",
       "      <td>2170.300049</td>\n",
       "      <td>0</td>\n",
       "    </tr>\n",
       "    <tr>\n",
       "      <th>1</th>\n",
       "      <td>1991-02-01</td>\n",
       "      <td>2168.500000</td>\n",
       "      <td>2388.399902</td>\n",
       "      <td>2155.600098</td>\n",
       "      <td>2380.899902</td>\n",
       "      <td>2380.899902</td>\n",
       "      <td>0</td>\n",
       "    </tr>\n",
       "    <tr>\n",
       "      <th>2</th>\n",
       "      <td>1991-03-01</td>\n",
       "      <td>2374.899902</td>\n",
       "      <td>2527.100098</td>\n",
       "      <td>2368.399902</td>\n",
       "      <td>2456.500000</td>\n",
       "      <td>2456.500000</td>\n",
       "      <td>0</td>\n",
       "    </tr>\n",
       "    <tr>\n",
       "      <th>3</th>\n",
       "      <td>1991-04-01</td>\n",
       "      <td>2456.500000</td>\n",
       "      <td>2555.300049</td>\n",
       "      <td>2438.600098</td>\n",
       "      <td>2486.199951</td>\n",
       "      <td>2486.199951</td>\n",
       "      <td>0</td>\n",
       "    </tr>\n",
       "    <tr>\n",
       "      <th>4</th>\n",
       "      <td>1991-05-01</td>\n",
       "      <td>2487.399902</td>\n",
       "      <td>2554.899902</td>\n",
       "      <td>2444.600098</td>\n",
       "      <td>2499.500000</td>\n",
       "      <td>2499.500000</td>\n",
       "      <td>0</td>\n",
       "    </tr>\n",
       "  </tbody>\n",
       "</table>\n",
       "</div>"
      ],
      "text/plain": [
       "        Date         Open         High          Low        Close    Adj Close  \\\n",
       "0 1991-01-01  2143.500000  2182.100098  2052.300049  2170.300049  2170.300049   \n",
       "1 1991-02-01  2168.500000  2388.399902  2155.600098  2380.899902  2380.899902   \n",
       "2 1991-03-01  2374.899902  2527.100098  2368.399902  2456.500000  2456.500000   \n",
       "3 1991-04-01  2456.500000  2555.300049  2438.600098  2486.199951  2486.199951   \n",
       "4 1991-05-01  2487.399902  2554.899902  2444.600098  2499.500000  2499.500000   \n",
       "\n",
       "   Volume  \n",
       "0       0  \n",
       "1       0  \n",
       "2       0  \n",
       "3       0  \n",
       "4       0  "
      ]
     },
     "execution_count": 4,
     "metadata": {},
     "output_type": "execute_result"
    }
   ],
   "source": [
    "ftse = pd.read_excel(\"ftse.xls\")\n",
    "ftse.head()"
   ]
  },
  {
   "cell_type": "markdown",
   "metadata": {},
   "source": [
    "# Calculating monthly returns for both variables."
   ]
  },
  {
   "cell_type": "code",
   "execution_count": 5,
   "metadata": {},
   "outputs": [
    {
     "data": {
      "text/plain": [
       "array([53051.72110631, 53496.7987463 , 52892.86160564, 53677.43527037,\n",
       "       54385.72674684])"
      ]
     },
     "execution_count": 5,
     "metadata": {},
     "output_type": "execute_result"
    }
   ],
   "source": [
    "price_data = np.array(house_1991_2016[\"Average House Price\"])\n",
    "price_data[:5]"
   ]
  },
  {
   "cell_type": "code",
   "execution_count": 6,
   "metadata": {},
   "outputs": [
    {
     "data": {
      "text/plain": [
       "[0.008389504255622793,\n",
       " -0.011289220192764016,\n",
       " 0.014833261822261967,\n",
       " 0.013195330084406987,\n",
       " 0.013269075933395102]"
      ]
     },
     "execution_count": 6,
     "metadata": {},
     "output_type": "execute_result"
    }
   ],
   "source": [
    "price_returns = []\n",
    "for i in range(1,312):\n",
    "    returns = (price_data[i] / price_data[i-1]) - 1\n",
    "    price_returns.append(returns)\n",
    "    \n",
    "price_returns[:5]"
   ]
  },
  {
   "cell_type": "code",
   "execution_count": 7,
   "metadata": {},
   "outputs": [
    {
     "data": {
      "text/plain": [
       "array([2170.300049, 2380.899902, 2456.5     , 2486.199951, 2499.5     ])"
      ]
     },
     "execution_count": 7,
     "metadata": {},
     "output_type": "execute_result"
    }
   ],
   "source": [
    "closing_price = np.array(ftse[\"Adj Close\"])\n",
    "closing_price[:5]"
   ]
  },
  {
   "cell_type": "code",
   "execution_count": 8,
   "metadata": {},
   "outputs": [
    {
     "data": {
      "text/plain": [
       "[0.09703720602920196,\n",
       " 0.031752741027245346,\n",
       " 0.012090352534093185,\n",
       " 0.005349549216526306,\n",
       " -0.03388675775155037]"
      ]
     },
     "execution_count": 8,
     "metadata": {},
     "output_type": "execute_result"
    }
   ],
   "source": [
    "ftse_returns = []\n",
    "for i in range(1,312):\n",
    "    returns = (closing_price[i] / closing_price[i-1]) - 1\n",
    "    ftse_returns.append(returns)\n",
    "    \n",
    "ftse_returns[:5]"
   ]
  },
  {
   "cell_type": "code",
   "execution_count": 9,
   "metadata": {},
   "outputs": [
    {
     "data": {
      "text/plain": [
       "0   1991-01-01\n",
       "1   1991-02-01\n",
       "2   1991-03-01\n",
       "3   1991-04-01\n",
       "4   1991-05-01\n",
       "Name: Date, dtype: datetime64[ns]"
      ]
     },
     "execution_count": 9,
     "metadata": {},
     "output_type": "execute_result"
    }
   ],
   "source": [
    "dates = ftse[\"Date\"]\n",
    "dates.head()"
   ]
  },
  {
   "cell_type": "markdown",
   "metadata": {},
   "source": [
    "# Creating the regression model"
   ]
  },
  {
   "cell_type": "code",
   "execution_count": 10,
   "metadata": {},
   "outputs": [],
   "source": [
    "df_price = pd.DataFrame(price_returns)\n",
    "df_ftse = pd.DataFrame(ftse_returns)"
   ]
  },
  {
   "cell_type": "code",
   "execution_count": 11,
   "metadata": {},
   "outputs": [],
   "source": [
    "lm = linear_model.LinearRegression()\n",
    "model = lm.fit(df_price, df_ftse)"
   ]
  },
  {
   "cell_type": "code",
   "execution_count": 12,
   "metadata": {},
   "outputs": [
    {
     "data": {
      "text/plain": [
       "array([[0.00936887]])"
      ]
     },
     "execution_count": 12,
     "metadata": {},
     "output_type": "execute_result"
    }
   ],
   "source": [
    "price_new = pd.DataFrame([0.05])\n",
    "ftse_predict = model.predict(price_new)\n",
    "ftse_predict"
   ]
  },
  {
   "cell_type": "code",
   "execution_count": 13,
   "metadata": {},
   "outputs": [
    {
     "data": {
      "text/plain": [
       "Text(0.5, 0, 'Date')"
      ]
     },
     "execution_count": 13,
     "metadata": {},
     "output_type": "execute_result"
    },
    {
     "data": {
      "image/png": "[encoded data removed]",
      "text/plain": [
       "<Figure size 1080x360 with 1 Axes>"
      ]
     },
     "metadata": {
      "needs_background": "light"
     },
     "output_type": "display_data"
    }
   ],
   "source": [
    "plt.figure(figsize=(15,5))\n",
    "plt.scatter(price_returns,ftse_returns , color=\"gainsboro\")\n",
    "plt.plot(df_price, model.predict(df_price), color='royalblue', linewidth=3)\n",
    "plt.title(\"Plot of Actual values and predicted\", fontsize=20)\n",
    "plt.ylabel(\"Values\")\n",
    "plt.xlabel(\"Date\")"
   ]
  },
  {
   "cell_type": "markdown",
   "metadata": {},
   "source": [
    "# Calculating the correlation coefficent"
   ]
  },
  {
   "cell_type": "code",
   "execution_count": 14,
   "metadata": {},
   "outputs": [
    {
     "data": {
      "text/html": [
       "<div>\n",
       "<style scoped>\n",
       "    .dataframe tbody tr th:only-of-type {\n",
       "        vertical-align: middle;\n",
       "    }\n",
       "\n",
       "    .dataframe tbody tr th {\n",
       "        vertical-align: top;\n",
       "    }\n",
       "\n",
       "    .dataframe thead th {\n",
       "        text-align: right;\n",
       "    }\n",
       "</style>\n",
       "<table border=\"1\" class=\"dataframe\">\n",
       "  <thead>\n",
       "    <tr style=\"text-align: right;\">\n",
       "      <th></th>\n",
       "      <th>Returns House Price</th>\n",
       "      <th>FTSE returns</th>\n",
       "    </tr>\n",
       "  </thead>\n",
       "  <tbody>\n",
       "    <tr>\n",
       "      <th>0</th>\n",
       "      <td>0.008390</td>\n",
       "      <td>0.097037</td>\n",
       "    </tr>\n",
       "    <tr>\n",
       "      <th>1</th>\n",
       "      <td>-0.011289</td>\n",
       "      <td>0.031753</td>\n",
       "    </tr>\n",
       "    <tr>\n",
       "      <th>2</th>\n",
       "      <td>0.014833</td>\n",
       "      <td>0.012090</td>\n",
       "    </tr>\n",
       "    <tr>\n",
       "      <th>3</th>\n",
       "      <td>0.013195</td>\n",
       "      <td>0.005350</td>\n",
       "    </tr>\n",
       "    <tr>\n",
       "      <th>4</th>\n",
       "      <td>0.013269</td>\n",
       "      <td>-0.033887</td>\n",
       "    </tr>\n",
       "  </tbody>\n",
       "</table>\n",
       "</div>"
      ],
      "text/plain": [
       "   Returns House Price  FTSE returns\n",
       "0             0.008390      0.097037\n",
       "1            -0.011289      0.031753\n",
       "2             0.014833      0.012090\n",
       "3             0.013195      0.005350\n",
       "4             0.013269     -0.033887"
      ]
     },
     "execution_count": 14,
     "metadata": {},
     "output_type": "execute_result"
    }
   ],
   "source": [
    "combined_data = pd.DataFrame({\"Returns House Price\":price_returns, \"FTSE returns\":ftse_returns})\n",
    "combined_data.head()"
   ]
  },
  {
   "cell_type": "code",
   "execution_count": 15,
   "metadata": {},
   "outputs": [
    {
     "data": {
      "text/html": [
       "<div>\n",
       "<style scoped>\n",
       "    .dataframe tbody tr th:only-of-type {\n",
       "        vertical-align: middle;\n",
       "    }\n",
       "\n",
       "    .dataframe tbody tr th {\n",
       "        vertical-align: top;\n",
       "    }\n",
       "\n",
       "    .dataframe thead th {\n",
       "        text-align: right;\n",
       "    }\n",
       "</style>\n",
       "<table border=\"1\" class=\"dataframe\">\n",
       "  <thead>\n",
       "    <tr style=\"text-align: right;\">\n",
       "      <th></th>\n",
       "      <th>Returns House Price</th>\n",
       "      <th>FTSE returns</th>\n",
       "    </tr>\n",
       "  </thead>\n",
       "  <tbody>\n",
       "    <tr>\n",
       "      <th>Returns House Price</th>\n",
       "      <td>1.000000</td>\n",
       "      <td>0.029719</td>\n",
       "    </tr>\n",
       "    <tr>\n",
       "      <th>FTSE returns</th>\n",
       "      <td>0.029719</td>\n",
       "      <td>1.000000</td>\n",
       "    </tr>\n",
       "  </tbody>\n",
       "</table>\n",
       "</div>"
      ],
      "text/plain": [
       "                     Returns House Price  FTSE returns\n",
       "Returns House Price             1.000000      0.029719\n",
       "FTSE returns                    0.029719      1.000000"
      ]
     },
     "execution_count": 15,
     "metadata": {},
     "output_type": "execute_result"
    }
   ],
   "source": [
    "combined_data.corr()"
   ]
  },
  {
   "cell_type": "markdown",
   "metadata": {},
   "source": [
    "From the above calculated correlation we can deduce that there is a very weak relationship between house prices and FTSE100 index in the UK. "
   ]
  },
  {
   "cell_type": "markdown",
   "metadata": {},
   "source": [
    "Our null hypothesis is that there is no relationship between monthly house prices and FTSE100 index in the UK.\n",
    "\n",
    "Our alternate hypothesis is that there is a relationship between monthly house prices and FTSE100 index in the UK."
   ]
  },
  {
   "cell_type": "code",
   "execution_count": 16,
   "metadata": {},
   "outputs": [],
   "source": [
    "ttest, p_value = stats.ttest_ind(a=ftse_returns, b=price_returns, equal_var=False)"
   ]
  },
  {
   "cell_type": "code",
   "execution_count": 17,
   "metadata": {},
   "outputs": [
    {
     "data": {
      "text/plain": [
       "0.9319576735840782"
      ]
     },
     "execution_count": 17,
     "metadata": {},
     "output_type": "execute_result"
    }
   ],
   "source": [
    "p_value"
   ]
  },
  {
   "cell_type": "code",
   "execution_count": 18,
   "metadata": {},
   "outputs": [
    {
     "name": "stdout",
     "output_type": "stream",
     "text": [
      "We are failing to reject the null hypothesis\n"
     ]
    }
   ],
   "source": [
    "if p_value <= 0.05:\n",
    "    print(\"We are rejecting the null hypothesis\")\n",
    "else:\n",
    "    print(\"We are failing to reject the null hypothesis\")"
   ]
  },
  {
   "cell_type": "markdown",
   "metadata": {},
   "source": [
    "As our p_value is greater than our significance level of 0.05 then we fail to reject the null hypothesis and therefore thereis no relationship between house prices and FTSE100 index in the UK. "
   ]
  },
  {
   "cell_type": "markdown",
   "metadata": {},
   "source": [
    "# Question 2"
   ]
  },
  {
   "cell_type": "code",
   "execution_count": 19,
   "metadata": {},
   "outputs": [],
   "source": [
    "import pandas as pd\n",
    "import numpy as np\n",
    "import scipy.stats as stats\n",
    "import statsmodels.api as sm\n",
    "from sklearn import linear_model\n",
    "from sklearn.metrics import accuracy_score"
   ]
  },
  {
   "cell_type": "markdown",
   "metadata": {},
   "source": [
    "# Extracting the data"
   ]
  },
  {
   "cell_type": "code",
   "execution_count": 20,
   "metadata": {},
   "outputs": [
    {
     "data": {
      "text/html": [
       "<div>\n",
       "<style scoped>\n",
       "    .dataframe tbody tr th:only-of-type {\n",
       "        vertical-align: middle;\n",
       "    }\n",
       "\n",
       "    .dataframe tbody tr th {\n",
       "        vertical-align: top;\n",
       "    }\n",
       "\n",
       "    .dataframe thead th {\n",
       "        text-align: right;\n",
       "    }\n",
       "</style>\n",
       "<table border=\"1\" class=\"dataframe\">\n",
       "  <thead>\n",
       "    <tr style=\"text-align: right;\">\n",
       "      <th></th>\n",
       "      <th>Unnamed: 0</th>\n",
       "      <th>Private</th>\n",
       "      <th>Apps</th>\n",
       "      <th>Accept</th>\n",
       "      <th>Enroll</th>\n",
       "      <th>Top10perc</th>\n",
       "      <th>Top25perc</th>\n",
       "      <th>F.Undergrad</th>\n",
       "      <th>P.Undergrad</th>\n",
       "      <th>Outstate</th>\n",
       "      <th>Room.Board</th>\n",
       "      <th>Books</th>\n",
       "      <th>Personal</th>\n",
       "      <th>PhD</th>\n",
       "      <th>Terminal</th>\n",
       "      <th>S.F.Ratio</th>\n",
       "      <th>perc.alumni</th>\n",
       "      <th>Expend</th>\n",
       "      <th>Grad.Rate</th>\n",
       "    </tr>\n",
       "  </thead>\n",
       "  <tbody>\n",
       "    <tr>\n",
       "      <th>0</th>\n",
       "      <td>Abilene Christian University</td>\n",
       "      <td>Yes</td>\n",
       "      <td>1660</td>\n",
       "      <td>1232</td>\n",
       "      <td>721</td>\n",
       "      <td>23</td>\n",
       "      <td>52</td>\n",
       "      <td>2885</td>\n",
       "      <td>537</td>\n",
       "      <td>7440</td>\n",
       "      <td>3300</td>\n",
       "      <td>450</td>\n",
       "      <td>2200</td>\n",
       "      <td>70</td>\n",
       "      <td>78</td>\n",
       "      <td>18.1</td>\n",
       "      <td>12</td>\n",
       "      <td>7041</td>\n",
       "      <td>60</td>\n",
       "    </tr>\n",
       "    <tr>\n",
       "      <th>1</th>\n",
       "      <td>Adelphi University</td>\n",
       "      <td>Yes</td>\n",
       "      <td>2186</td>\n",
       "      <td>1924</td>\n",
       "      <td>512</td>\n",
       "      <td>16</td>\n",
       "      <td>29</td>\n",
       "      <td>2683</td>\n",
       "      <td>1227</td>\n",
       "      <td>12280</td>\n",
       "      <td>6450</td>\n",
       "      <td>750</td>\n",
       "      <td>1500</td>\n",
       "      <td>29</td>\n",
       "      <td>30</td>\n",
       "      <td>12.2</td>\n",
       "      <td>16</td>\n",
       "      <td>10527</td>\n",
       "      <td>56</td>\n",
       "    </tr>\n",
       "    <tr>\n",
       "      <th>2</th>\n",
       "      <td>Adrian College</td>\n",
       "      <td>Yes</td>\n",
       "      <td>1428</td>\n",
       "      <td>1097</td>\n",
       "      <td>336</td>\n",
       "      <td>22</td>\n",
       "      <td>50</td>\n",
       "      <td>1036</td>\n",
       "      <td>99</td>\n",
       "      <td>11250</td>\n",
       "      <td>3750</td>\n",
       "      <td>400</td>\n",
       "      <td>1165</td>\n",
       "      <td>53</td>\n",
       "      <td>66</td>\n",
       "      <td>12.9</td>\n",
       "      <td>30</td>\n",
       "      <td>8735</td>\n",
       "      <td>54</td>\n",
       "    </tr>\n",
       "    <tr>\n",
       "      <th>3</th>\n",
       "      <td>Agnes Scott College</td>\n",
       "      <td>Yes</td>\n",
       "      <td>417</td>\n",
       "      <td>349</td>\n",
       "      <td>137</td>\n",
       "      <td>60</td>\n",
       "      <td>89</td>\n",
       "      <td>510</td>\n",
       "      <td>63</td>\n",
       "      <td>12960</td>\n",
       "      <td>5450</td>\n",
       "      <td>450</td>\n",
       "      <td>875</td>\n",
       "      <td>92</td>\n",
       "      <td>97</td>\n",
       "      <td>7.7</td>\n",
       "      <td>37</td>\n",
       "      <td>19016</td>\n",
       "      <td>59</td>\n",
       "    </tr>\n",
       "    <tr>\n",
       "      <th>4</th>\n",
       "      <td>Alaska Pacific University</td>\n",
       "      <td>Yes</td>\n",
       "      <td>193</td>\n",
       "      <td>146</td>\n",
       "      <td>55</td>\n",
       "      <td>16</td>\n",
       "      <td>44</td>\n",
       "      <td>249</td>\n",
       "      <td>869</td>\n",
       "      <td>7560</td>\n",
       "      <td>4120</td>\n",
       "      <td>800</td>\n",
       "      <td>1500</td>\n",
       "      <td>76</td>\n",
       "      <td>72</td>\n",
       "      <td>11.9</td>\n",
       "      <td>2</td>\n",
       "      <td>10922</td>\n",
       "      <td>15</td>\n",
       "    </tr>\n",
       "  </tbody>\n",
       "</table>\n",
       "</div>"
      ],
      "text/plain": [
       "                     Unnamed: 0 Private  Apps  Accept  Enroll  Top10perc  \\\n",
       "0  Abilene Christian University     Yes  1660    1232     721         23   \n",
       "1            Adelphi University     Yes  2186    1924     512         16   \n",
       "2                Adrian College     Yes  1428    1097     336         22   \n",
       "3           Agnes Scott College     Yes   417     349     137         60   \n",
       "4     Alaska Pacific University     Yes   193     146      55         16   \n",
       "\n",
       "   Top25perc  F.Undergrad  P.Undergrad  Outstate  Room.Board  Books  Personal  \\\n",
       "0         52         2885          537      7440        3300    450      2200   \n",
       "1         29         2683         1227     12280        6450    750      1500   \n",
       "2         50         1036           99     11250        3750    400      1165   \n",
       "3         89          510           63     12960        5450    450       875   \n",
       "4         44          249          869      7560        4120    800      1500   \n",
       "\n",
       "   PhD  Terminal  S.F.Ratio  perc.alumni  Expend  Grad.Rate  \n",
       "0   70        78       18.1           12    7041         60  \n",
       "1   29        30       12.2           16   10527         56  \n",
       "2   53        66       12.9           30    8735         54  \n",
       "3   92        97        7.7           37   19016         59  \n",
       "4   76        72       11.9            2   10922         15  "
      ]
     },
     "execution_count": 20,
     "metadata": {},
     "output_type": "execute_result"
    }
   ],
   "source": [
    "data = pd.read_csv(\"College.csv\")\n",
    "data.head()"
   ]
  },
  {
   "cell_type": "code",
   "execution_count": 21,
   "metadata": {},
   "outputs": [
    {
     "data": {
      "text/html": [
       "<div>\n",
       "<style scoped>\n",
       "    .dataframe tbody tr th:only-of-type {\n",
       "        vertical-align: middle;\n",
       "    }\n",
       "\n",
       "    .dataframe tbody tr th {\n",
       "        vertical-align: top;\n",
       "    }\n",
       "\n",
       "    .dataframe thead th {\n",
       "        text-align: right;\n",
       "    }\n",
       "</style>\n",
       "<table border=\"1\" class=\"dataframe\">\n",
       "  <thead>\n",
       "    <tr style=\"text-align: right;\">\n",
       "      <th></th>\n",
       "      <th>Colleges</th>\n",
       "      <th>Private</th>\n",
       "      <th>Apps</th>\n",
       "      <th>Accept</th>\n",
       "      <th>Enroll</th>\n",
       "      <th>Top10perc</th>\n",
       "      <th>Top25perc</th>\n",
       "      <th>F.Undergrad</th>\n",
       "      <th>P.Undergrad</th>\n",
       "      <th>Outstate</th>\n",
       "      <th>Room.Board</th>\n",
       "      <th>Books</th>\n",
       "      <th>Personal</th>\n",
       "      <th>PhD</th>\n",
       "      <th>Terminal</th>\n",
       "      <th>S.F.Ratio</th>\n",
       "      <th>perc.alumni</th>\n",
       "      <th>Expend</th>\n",
       "      <th>Grad.Rate</th>\n",
       "    </tr>\n",
       "  </thead>\n",
       "  <tbody>\n",
       "    <tr>\n",
       "      <th>0</th>\n",
       "      <td>Abilene Christian University</td>\n",
       "      <td>Yes</td>\n",
       "      <td>1660</td>\n",
       "      <td>1232</td>\n",
       "      <td>721</td>\n",
       "      <td>23</td>\n",
       "      <td>52</td>\n",
       "      <td>2885</td>\n",
       "      <td>537</td>\n",
       "      <td>7440</td>\n",
       "      <td>3300</td>\n",
       "      <td>450</td>\n",
       "      <td>2200</td>\n",
       "      <td>70</td>\n",
       "      <td>78</td>\n",
       "      <td>18.1</td>\n",
       "      <td>12</td>\n",
       "      <td>7041</td>\n",
       "      <td>60</td>\n",
       "    </tr>\n",
       "    <tr>\n",
       "      <th>1</th>\n",
       "      <td>Adelphi University</td>\n",
       "      <td>Yes</td>\n",
       "      <td>2186</td>\n",
       "      <td>1924</td>\n",
       "      <td>512</td>\n",
       "      <td>16</td>\n",
       "      <td>29</td>\n",
       "      <td>2683</td>\n",
       "      <td>1227</td>\n",
       "      <td>12280</td>\n",
       "      <td>6450</td>\n",
       "      <td>750</td>\n",
       "      <td>1500</td>\n",
       "      <td>29</td>\n",
       "      <td>30</td>\n",
       "      <td>12.2</td>\n",
       "      <td>16</td>\n",
       "      <td>10527</td>\n",
       "      <td>56</td>\n",
       "    </tr>\n",
       "    <tr>\n",
       "      <th>2</th>\n",
       "      <td>Adrian College</td>\n",
       "      <td>Yes</td>\n",
       "      <td>1428</td>\n",
       "      <td>1097</td>\n",
       "      <td>336</td>\n",
       "      <td>22</td>\n",
       "      <td>50</td>\n",
       "      <td>1036</td>\n",
       "      <td>99</td>\n",
       "      <td>11250</td>\n",
       "      <td>3750</td>\n",
       "      <td>400</td>\n",
       "      <td>1165</td>\n",
       "      <td>53</td>\n",
       "      <td>66</td>\n",
       "      <td>12.9</td>\n",
       "      <td>30</td>\n",
       "      <td>8735</td>\n",
       "      <td>54</td>\n",
       "    </tr>\n",
       "    <tr>\n",
       "      <th>3</th>\n",
       "      <td>Agnes Scott College</td>\n",
       "      <td>Yes</td>\n",
       "      <td>417</td>\n",
       "      <td>349</td>\n",
       "      <td>137</td>\n",
       "      <td>60</td>\n",
       "      <td>89</td>\n",
       "      <td>510</td>\n",
       "      <td>63</td>\n",
       "      <td>12960</td>\n",
       "      <td>5450</td>\n",
       "      <td>450</td>\n",
       "      <td>875</td>\n",
       "      <td>92</td>\n",
       "      <td>97</td>\n",
       "      <td>7.7</td>\n",
       "      <td>37</td>\n",
       "      <td>19016</td>\n",
       "      <td>59</td>\n",
       "    </tr>\n",
       "    <tr>\n",
       "      <th>4</th>\n",
       "      <td>Alaska Pacific University</td>\n",
       "      <td>Yes</td>\n",
       "      <td>193</td>\n",
       "      <td>146</td>\n",
       "      <td>55</td>\n",
       "      <td>16</td>\n",
       "      <td>44</td>\n",
       "      <td>249</td>\n",
       "      <td>869</td>\n",
       "      <td>7560</td>\n",
       "      <td>4120</td>\n",
       "      <td>800</td>\n",
       "      <td>1500</td>\n",
       "      <td>76</td>\n",
       "      <td>72</td>\n",
       "      <td>11.9</td>\n",
       "      <td>2</td>\n",
       "      <td>10922</td>\n",
       "      <td>15</td>\n",
       "    </tr>\n",
       "  </tbody>\n",
       "</table>\n",
       "</div>"
      ],
      "text/plain": [
       "                       Colleges Private  Apps  Accept  Enroll  Top10perc  \\\n",
       "0  Abilene Christian University     Yes  1660    1232     721         23   \n",
       "1            Adelphi University     Yes  2186    1924     512         16   \n",
       "2                Adrian College     Yes  1428    1097     336         22   \n",
       "3           Agnes Scott College     Yes   417     349     137         60   \n",
       "4     Alaska Pacific University     Yes   193     146      55         16   \n",
       "\n",
       "   Top25perc  F.Undergrad  P.Undergrad  Outstate  Room.Board  Books  Personal  \\\n",
       "0         52         2885          537      7440        3300    450      2200   \n",
       "1         29         2683         1227     12280        6450    750      1500   \n",
       "2         50         1036           99     11250        3750    400      1165   \n",
       "3         89          510           63     12960        5450    450       875   \n",
       "4         44          249          869      7560        4120    800      1500   \n",
       "\n",
       "   PhD  Terminal  S.F.Ratio  perc.alumni  Expend  Grad.Rate  \n",
       "0   70        78       18.1           12    7041         60  \n",
       "1   29        30       12.2           16   10527         56  \n",
       "2   53        66       12.9           30    8735         54  \n",
       "3   92        97        7.7           37   19016         59  \n",
       "4   76        72       11.9            2   10922         15  "
      ]
     },
     "execution_count": 21,
     "metadata": {},
     "output_type": "execute_result"
    }
   ],
   "source": [
    "data.rename(columns={\"Unnamed: 0\":\"Colleges\"}, inplace=True)\n",
    "data.head()"
   ]
  },
  {
   "cell_type": "markdown",
   "metadata": {},
   "source": [
    "# Selecting the useful variables"
   ]
  },
  {
   "cell_type": "code",
   "execution_count": 22,
   "metadata": {},
   "outputs": [
    {
     "data": {
      "text/html": [
       "<div>\n",
       "<style scoped>\n",
       "    .dataframe tbody tr th:only-of-type {\n",
       "        vertical-align: middle;\n",
       "    }\n",
       "\n",
       "    .dataframe tbody tr th {\n",
       "        vertical-align: top;\n",
       "    }\n",
       "\n",
       "    .dataframe thead th {\n",
       "        text-align: right;\n",
       "    }\n",
       "</style>\n",
       "<table border=\"1\" class=\"dataframe\">\n",
       "  <thead>\n",
       "    <tr style=\"text-align: right;\">\n",
       "      <th></th>\n",
       "      <th>Colleges</th>\n",
       "      <th>Apps</th>\n",
       "      <th>Enroll</th>\n",
       "      <th>Outstate</th>\n",
       "      <th>Top10perc</th>\n",
       "      <th>Top25perc</th>\n",
       "      <th>Grad.Rate</th>\n",
       "    </tr>\n",
       "  </thead>\n",
       "  <tbody>\n",
       "    <tr>\n",
       "      <th>0</th>\n",
       "      <td>Abilene Christian University</td>\n",
       "      <td>1660</td>\n",
       "      <td>721</td>\n",
       "      <td>7440</td>\n",
       "      <td>23</td>\n",
       "      <td>52</td>\n",
       "      <td>60</td>\n",
       "    </tr>\n",
       "    <tr>\n",
       "      <th>1</th>\n",
       "      <td>Adelphi University</td>\n",
       "      <td>2186</td>\n",
       "      <td>512</td>\n",
       "      <td>12280</td>\n",
       "      <td>16</td>\n",
       "      <td>29</td>\n",
       "      <td>56</td>\n",
       "    </tr>\n",
       "    <tr>\n",
       "      <th>2</th>\n",
       "      <td>Adrian College</td>\n",
       "      <td>1428</td>\n",
       "      <td>336</td>\n",
       "      <td>11250</td>\n",
       "      <td>22</td>\n",
       "      <td>50</td>\n",
       "      <td>54</td>\n",
       "    </tr>\n",
       "    <tr>\n",
       "      <th>3</th>\n",
       "      <td>Agnes Scott College</td>\n",
       "      <td>417</td>\n",
       "      <td>137</td>\n",
       "      <td>12960</td>\n",
       "      <td>60</td>\n",
       "      <td>89</td>\n",
       "      <td>59</td>\n",
       "    </tr>\n",
       "    <tr>\n",
       "      <th>4</th>\n",
       "      <td>Alaska Pacific University</td>\n",
       "      <td>193</td>\n",
       "      <td>55</td>\n",
       "      <td>7560</td>\n",
       "      <td>16</td>\n",
       "      <td>44</td>\n",
       "      <td>15</td>\n",
       "    </tr>\n",
       "  </tbody>\n",
       "</table>\n",
       "</div>"
      ],
      "text/plain": [
       "                       Colleges  Apps  Enroll  Outstate  Top10perc  Top25perc  \\\n",
       "0  Abilene Christian University  1660     721      7440         23         52   \n",
       "1            Adelphi University  2186     512     12280         16         29   \n",
       "2                Adrian College  1428     336     11250         22         50   \n",
       "3           Agnes Scott College   417     137     12960         60         89   \n",
       "4     Alaska Pacific University   193      55      7560         16         44   \n",
       "\n",
       "   Grad.Rate  \n",
       "0         60  \n",
       "1         56  \n",
       "2         54  \n",
       "3         59  \n",
       "4         15  "
      ]
     },
     "execution_count": 22,
     "metadata": {},
     "output_type": "execute_result"
    }
   ],
   "source": [
    "data_columns = data[[\"Colleges\",\"Apps\", \"Enroll\", \"Outstate\", \"Top10perc\", \"Top25perc\", \"Grad.Rate\"]]\n",
    "data_columns.head()"
   ]
  },
  {
   "cell_type": "markdown",
   "metadata": {},
   "source": [
    "# Calculating the correlation coefficients of the variables"
   ]
  },
  {
   "cell_type": "code",
   "execution_count": 23,
   "metadata": {},
   "outputs": [
    {
     "data": {
      "text/html": [
       "<div>\n",
       "<style scoped>\n",
       "    .dataframe tbody tr th:only-of-type {\n",
       "        vertical-align: middle;\n",
       "    }\n",
       "\n",
       "    .dataframe tbody tr th {\n",
       "        vertical-align: top;\n",
       "    }\n",
       "\n",
       "    .dataframe thead th {\n",
       "        text-align: right;\n",
       "    }\n",
       "</style>\n",
       "<table border=\"1\" class=\"dataframe\">\n",
       "  <thead>\n",
       "    <tr style=\"text-align: right;\">\n",
       "      <th></th>\n",
       "      <th>Apps</th>\n",
       "      <th>Enroll</th>\n",
       "      <th>Outstate</th>\n",
       "      <th>Top10perc</th>\n",
       "      <th>Top25perc</th>\n",
       "      <th>Grad.Rate</th>\n",
       "    </tr>\n",
       "  </thead>\n",
       "  <tbody>\n",
       "    <tr>\n",
       "      <th>Apps</th>\n",
       "      <td>1.000000</td>\n",
       "      <td>0.846822</td>\n",
       "      <td>0.050159</td>\n",
       "      <td>0.338834</td>\n",
       "      <td>0.351640</td>\n",
       "      <td>0.146755</td>\n",
       "    </tr>\n",
       "    <tr>\n",
       "      <th>Enroll</th>\n",
       "      <td>0.846822</td>\n",
       "      <td>1.000000</td>\n",
       "      <td>-0.155477</td>\n",
       "      <td>0.181294</td>\n",
       "      <td>0.226745</td>\n",
       "      <td>-0.022341</td>\n",
       "    </tr>\n",
       "    <tr>\n",
       "      <th>Outstate</th>\n",
       "      <td>0.050159</td>\n",
       "      <td>-0.155477</td>\n",
       "      <td>1.000000</td>\n",
       "      <td>0.562331</td>\n",
       "      <td>0.489394</td>\n",
       "      <td>0.571290</td>\n",
       "    </tr>\n",
       "    <tr>\n",
       "      <th>Top10perc</th>\n",
       "      <td>0.338834</td>\n",
       "      <td>0.181294</td>\n",
       "      <td>0.562331</td>\n",
       "      <td>1.000000</td>\n",
       "      <td>0.891995</td>\n",
       "      <td>0.494989</td>\n",
       "    </tr>\n",
       "    <tr>\n",
       "      <th>Top25perc</th>\n",
       "      <td>0.351640</td>\n",
       "      <td>0.226745</td>\n",
       "      <td>0.489394</td>\n",
       "      <td>0.891995</td>\n",
       "      <td>1.000000</td>\n",
       "      <td>0.477281</td>\n",
       "    </tr>\n",
       "    <tr>\n",
       "      <th>Grad.Rate</th>\n",
       "      <td>0.146755</td>\n",
       "      <td>-0.022341</td>\n",
       "      <td>0.571290</td>\n",
       "      <td>0.494989</td>\n",
       "      <td>0.477281</td>\n",
       "      <td>1.000000</td>\n",
       "    </tr>\n",
       "  </tbody>\n",
       "</table>\n",
       "</div>"
      ],
      "text/plain": [
       "               Apps    Enroll  Outstate  Top10perc  Top25perc  Grad.Rate\n",
       "Apps       1.000000  0.846822  0.050159   0.338834   0.351640   0.146755\n",
       "Enroll     0.846822  1.000000 -0.155477   0.181294   0.226745  -0.022341\n",
       "Outstate   0.050159 -0.155477  1.000000   0.562331   0.489394   0.571290\n",
       "Top10perc  0.338834  0.181294  0.562331   1.000000   0.891995   0.494989\n",
       "Top25perc  0.351640  0.226745  0.489394   0.891995   1.000000   0.477281\n",
       "Grad.Rate  0.146755 -0.022341  0.571290   0.494989   0.477281   1.000000"
      ]
     },
     "execution_count": 23,
     "metadata": {},
     "output_type": "execute_result"
    }
   ],
   "source": [
    "corr = data_columns.corr()\n",
    "corr"
   ]
  },
  {
   "cell_type": "markdown",
   "metadata": {},
   "source": [
    "# Building the regression model"
   ]
  },
  {
   "cell_type": "code",
   "execution_count": 24,
   "metadata": {},
   "outputs": [],
   "source": [
    "x_data = data_columns.drop([\"Grad.Rate\", \"Colleges\"], axis = 1)\n",
    "y_data = data_columns[[\"Grad.Rate\"]]"
   ]
  },
  {
   "cell_type": "code",
   "execution_count": 25,
   "metadata": {},
   "outputs": [],
   "source": [
    "lm = linear_model.LinearRegression()\n",
    "model = lm.fit(x_data, y_data)"
   ]
  },
  {
   "cell_type": "code",
   "execution_count": 26,
   "metadata": {},
   "outputs": [],
   "source": [
    "y_predict = model.predict(x_data)"
   ]
  },
  {
   "cell_type": "markdown",
   "metadata": {},
   "source": [
    "# Finding the variables that are useful in predicting graduation rate."
   ]
  },
  {
   "cell_type": "code",
   "execution_count": 27,
   "metadata": {},
   "outputs": [],
   "source": [
    "def forward_regression(X, y,\n",
    "                       threshold_in,\n",
    "                       verbose=False):\n",
    "    initial_list = []\n",
    "    the_best_features = []\n",
    "    bic = []\n",
    "    p_values = []\n",
    "    included = list(initial_list)\n",
    "    best_before = 0\n",
    "    while True:\n",
    "        changed=False\n",
    "        excluded = list(set(X.columns)-set(included))\n",
    "        new_pval = pd.Series(index=excluded)\n",
    "        new_bic = pd.Series(index=excluded)\n",
    "        for new_column in excluded:\n",
    "            model = sm.OLS(y, sm.add_constant(pd.DataFrame(X[included+[new_column]]))).fit()\n",
    "            new_pval[new_column] = model.pvalues[new_column]\n",
    "            new_bic.loc[new_column] = model.bic\n",
    "        \n",
    "        if best_before == 0 :\n",
    "            best_before =  new_bic.min()\n",
    "        best_bic = new_bic.min()\n",
    "        if best_bic <= best_before :\n",
    "            best_before = best_bic\n",
    "            best_feature = new_bic.idxmin()\n",
    "            included.append(best_feature)\n",
    "            \n",
    "            the_best_features += [best_feature]\n",
    "            bic += [best_bic] \n",
    "            p_values += [new_pval.min()]\n",
    "            changed=True\n",
    "        if not changed:\n",
    "            break\n",
    "\n",
    "    return the_best_features, bic, p_values"
   ]
  },
  {
   "cell_type": "code",
   "execution_count": 28,
   "metadata": {},
   "outputs": [
    {
     "name": "stderr",
     "output_type": "stream",
     "text": [
      "<ipython-input-27-ffde2517c043>:13: DeprecationWarning: The default dtype for empty Series will be 'object' instead of 'float64' in a future version. Specify a dtype explicitly to silence this warning.\n",
      "  new_pval = pd.Series(index=excluded)\n",
      "<ipython-input-27-ffde2517c043>:14: DeprecationWarning: The default dtype for empty Series will be 'object' instead of 'float64' in a future version. Specify a dtype explicitly to silence this warning.\n",
      "  new_bic = pd.Series(index=excluded)\n"
     ]
    },
    {
     "data": {
      "text/plain": [
       "(['Outstate', 'Top25perc'],\n",
       " [6329.339476057561, 6274.3329824422635],\n",
       " [1.6289269593116737e-68, 4.6950332119235745e-15])"
      ]
     },
     "execution_count": 28,
     "metadata": {},
     "output_type": "execute_result"
    }
   ],
   "source": [
    "forward_regression(x_data, y_data,\n",
    "                       0.05,\n",
    "                       verbose=False)"
   ]
  },
  {
   "cell_type": "markdown",
   "metadata": {},
   "source": [
    "# Finding the accuracy of the model using all features"
   ]
  },
  {
   "cell_type": "code",
   "execution_count": 29,
   "metadata": {},
   "outputs": [
    {
     "data": {
      "text/plain": [
       "0.039897039897039896"
      ]
     },
     "execution_count": 29,
     "metadata": {},
     "output_type": "execute_result"
    }
   ],
   "source": [
    "accuracy = accuracy_score(y_data, np.round(y_predict), normalize=True)\n",
    "accuracy"
   ]
  },
  {
   "cell_type": "markdown",
   "metadata": {},
   "source": [
    "# Finding the accuracy of the model using only useful variables"
   ]
  },
  {
   "cell_type": "code",
   "execution_count": 30,
   "metadata": {},
   "outputs": [
    {
     "data": {
      "text/html": [
       "<div>\n",
       "<style scoped>\n",
       "    .dataframe tbody tr th:only-of-type {\n",
       "        vertical-align: middle;\n",
       "    }\n",
       "\n",
       "    .dataframe tbody tr th {\n",
       "        vertical-align: top;\n",
       "    }\n",
       "\n",
       "    .dataframe thead th {\n",
       "        text-align: right;\n",
       "    }\n",
       "</style>\n",
       "<table border=\"1\" class=\"dataframe\">\n",
       "  <thead>\n",
       "    <tr style=\"text-align: right;\">\n",
       "      <th></th>\n",
       "      <th>Outstate</th>\n",
       "      <th>Top25perc</th>\n",
       "    </tr>\n",
       "  </thead>\n",
       "  <tbody>\n",
       "    <tr>\n",
       "      <th>0</th>\n",
       "      <td>7440</td>\n",
       "      <td>52</td>\n",
       "    </tr>\n",
       "    <tr>\n",
       "      <th>1</th>\n",
       "      <td>12280</td>\n",
       "      <td>29</td>\n",
       "    </tr>\n",
       "    <tr>\n",
       "      <th>2</th>\n",
       "      <td>11250</td>\n",
       "      <td>50</td>\n",
       "    </tr>\n",
       "    <tr>\n",
       "      <th>3</th>\n",
       "      <td>12960</td>\n",
       "      <td>89</td>\n",
       "    </tr>\n",
       "    <tr>\n",
       "      <th>4</th>\n",
       "      <td>7560</td>\n",
       "      <td>44</td>\n",
       "    </tr>\n",
       "    <tr>\n",
       "      <th>...</th>\n",
       "      <td>...</td>\n",
       "      <td>...</td>\n",
       "    </tr>\n",
       "    <tr>\n",
       "      <th>772</th>\n",
       "      <td>6797</td>\n",
       "      <td>26</td>\n",
       "    </tr>\n",
       "    <tr>\n",
       "      <th>773</th>\n",
       "      <td>11520</td>\n",
       "      <td>47</td>\n",
       "    </tr>\n",
       "    <tr>\n",
       "      <th>774</th>\n",
       "      <td>6900</td>\n",
       "      <td>61</td>\n",
       "    </tr>\n",
       "    <tr>\n",
       "      <th>775</th>\n",
       "      <td>19840</td>\n",
       "      <td>99</td>\n",
       "    </tr>\n",
       "    <tr>\n",
       "      <th>776</th>\n",
       "      <td>4990</td>\n",
       "      <td>63</td>\n",
       "    </tr>\n",
       "  </tbody>\n",
       "</table>\n",
       "<p>777 rows × 2 columns</p>\n",
       "</div>"
      ],
      "text/plain": [
       "     Outstate  Top25perc\n",
       "0        7440         52\n",
       "1       12280         29\n",
       "2       11250         50\n",
       "3       12960         89\n",
       "4        7560         44\n",
       "..        ...        ...\n",
       "772      6797         26\n",
       "773     11520         47\n",
       "774      6900         61\n",
       "775     19840         99\n",
       "776      4990         63\n",
       "\n",
       "[777 rows x 2 columns]"
      ]
     },
     "execution_count": 30,
     "metadata": {},
     "output_type": "execute_result"
    }
   ],
   "source": [
    "x_useful = data_columns[[\"Outstate\", \"Top25perc\"]]\n",
    "x_useful"
   ]
  },
  {
   "cell_type": "code",
   "execution_count": 31,
   "metadata": {},
   "outputs": [],
   "source": [
    "linear_model = linear_model.LinearRegression()\n",
    "regression_model = linear_model.fit(x_useful, y_data)"
   ]
  },
  {
   "cell_type": "code",
   "execution_count": 32,
   "metadata": {},
   "outputs": [],
   "source": [
    "y_useful_predict = regression_model.predict(x_useful)"
   ]
  },
  {
   "cell_type": "code",
   "execution_count": 33,
   "metadata": {},
   "outputs": [
    {
     "data": {
      "text/plain": [
       "0.04247104247104247"
      ]
     },
     "execution_count": 33,
     "metadata": {},
     "output_type": "execute_result"
    }
   ],
   "source": [
    "accuracy_useful = accuracy_score(y_data, np.round(y_useful_predict))\n",
    "accuracy_useful"
   ]
  },
  {
   "cell_type": "markdown",
   "metadata": {},
   "source": [
    "# Finding the graduation rate value predicted by the most accurate model given predictors corresponding to CMU."
   ]
  },
  {
   "cell_type": "code",
   "execution_count": 34,
   "metadata": {},
   "outputs": [
    {
     "data": {
      "text/plain": [
       "array([[87.09352366]])"
      ]
     },
     "execution_count": 34,
     "metadata": {},
     "output_type": "execute_result"
    }
   ],
   "source": [
    "cmu_value = data[data['Colleges']=='Carnegie Mellon University'].index.values\n",
    "graduation_rate = y_useful_predict[cmu_value]\n",
    "graduation_rate"
   ]
  },
  {
   "cell_type": "markdown",
   "metadata": {},
   "source": [
    "# Question 3"
   ]
  },
  {
   "cell_type": "code",
   "execution_count": 35,
   "metadata": {},
   "outputs": [],
   "source": [
    "import pandas as pd\n",
    "import numpy as np\n",
    "import matplotlib.pyplot as plt\n",
    "from sklearn import linear_model"
   ]
  },
  {
   "cell_type": "markdown",
   "metadata": {},
   "source": [
    "In this study we want to analyze if there is a relationship between the number of cars that are registered in Great Britain and annual number of accidents.\n",
    "\n",
    "The data source is Department for Transport and Driver and Vehicle Licensing Agency of Great Britain"
   ]
  },
  {
   "cell_type": "markdown",
   "metadata": {},
   "source": [
    "# List of assumptions\n",
    "\n",
    "- Number of accidents increased overtime from 1979 to 2020.\n",
    "\n",
    "- A steady increase in the number of new registered cars overtime.\n",
    "\n",
    "- As the number of new registered cars increased the number of accidents also increased."
   ]
  },
  {
   "cell_type": "markdown",
   "metadata": {},
   "source": [
    "# Extracting data about accidents"
   ]
  },
  {
   "cell_type": "code",
   "execution_count": 36,
   "metadata": {},
   "outputs": [
    {
     "data": {
      "text/html": [
       "<div>\n",
       "<style scoped>\n",
       "    .dataframe tbody tr th:only-of-type {\n",
       "        vertical-align: middle;\n",
       "    }\n",
       "\n",
       "    .dataframe tbody tr th {\n",
       "        vertical-align: top;\n",
       "    }\n",
       "\n",
       "    .dataframe thead th {\n",
       "        text-align: right;\n",
       "    }\n",
       "</style>\n",
       "<table border=\"1\" class=\"dataframe\">\n",
       "  <thead>\n",
       "    <tr style=\"text-align: right;\">\n",
       "      <th></th>\n",
       "      <th>Year</th>\n",
       "      <th>Fatal</th>\n",
       "      <th>Serious (unadjusted)</th>\n",
       "      <th>Serious (adjusted)1</th>\n",
       "      <th>FSA (Fatal/Serious) (unadjusted)</th>\n",
       "      <th>FSA (Fatal/Serious) (adjusted)1</th>\n",
       "      <th>Slight (unadjusted)</th>\n",
       "      <th>Slight (adjusted)1</th>\n",
       "      <th>Total</th>\n",
       "    </tr>\n",
       "  </thead>\n",
       "  <tbody>\n",
       "    <tr>\n",
       "      <th>0</th>\n",
       "      <td>1979</td>\n",
       "      <td>5824.0</td>\n",
       "      <td>66927.0</td>\n",
       "      <td>..</td>\n",
       "      <td>72751.0</td>\n",
       "      <td>..</td>\n",
       "      <td>182216.0</td>\n",
       "      <td>..</td>\n",
       "      <td>254967</td>\n",
       "    </tr>\n",
       "    <tr>\n",
       "      <th>1</th>\n",
       "      <td>1980</td>\n",
       "      <td>5506.0</td>\n",
       "      <td>65714.0</td>\n",
       "      <td>..</td>\n",
       "      <td>71220.0</td>\n",
       "      <td>..</td>\n",
       "      <td>179738.0</td>\n",
       "      <td>..</td>\n",
       "      <td>250958</td>\n",
       "    </tr>\n",
       "    <tr>\n",
       "      <th>2</th>\n",
       "      <td>1981</td>\n",
       "      <td>5355.0</td>\n",
       "      <td>64980.0</td>\n",
       "      <td>..</td>\n",
       "      <td>70335.0</td>\n",
       "      <td>..</td>\n",
       "      <td>177941.0</td>\n",
       "      <td>..</td>\n",
       "      <td>248276</td>\n",
       "    </tr>\n",
       "    <tr>\n",
       "      <th>3</th>\n",
       "      <td>1982</td>\n",
       "      <td>5450.0</td>\n",
       "      <td>66143.0</td>\n",
       "      <td>..</td>\n",
       "      <td>71593.0</td>\n",
       "      <td>..</td>\n",
       "      <td>184414.0</td>\n",
       "      <td>..</td>\n",
       "      <td>256007</td>\n",
       "    </tr>\n",
       "    <tr>\n",
       "      <th>4</th>\n",
       "      <td>1983</td>\n",
       "      <td>5027.0</td>\n",
       "      <td>60021.0</td>\n",
       "      <td>..</td>\n",
       "      <td>65048.0</td>\n",
       "      <td>..</td>\n",
       "      <td>177828.0</td>\n",
       "      <td>..</td>\n",
       "      <td>242876</td>\n",
       "    </tr>\n",
       "  </tbody>\n",
       "</table>\n",
       "</div>"
      ],
      "text/plain": [
       "   Year   Fatal  Serious (unadjusted) Serious (adjusted)1  \\\n",
       "0  1979  5824.0               66927.0                  ..   \n",
       "1  1980  5506.0               65714.0                  ..   \n",
       "2  1981  5355.0               64980.0                  ..   \n",
       "3  1982  5450.0               66143.0                  ..   \n",
       "4  1983  5027.0               60021.0                  ..   \n",
       "\n",
       "   FSA (Fatal/Serious) (unadjusted) FSA (Fatal/Serious) (adjusted)1  \\\n",
       "0                           72751.0                              ..   \n",
       "1                           71220.0                              ..   \n",
       "2                           70335.0                              ..   \n",
       "3                           71593.0                              ..   \n",
       "4                           65048.0                              ..   \n",
       "\n",
       "   Slight (unadjusted) Slight (adjusted)1   Total  \n",
       "0             182216.0                 ..  254967  \n",
       "1             179738.0                 ..  250958  \n",
       "2             177941.0                 ..  248276  \n",
       "3             184414.0                 ..  256007  \n",
       "4             177828.0                 ..  242876  "
      ]
     },
     "execution_count": 36,
     "metadata": {},
     "output_type": "execute_result"
    }
   ],
   "source": [
    "accidents = pd.read_excel(\"ras10013.xlsx\", skiprows=5)\n",
    "accidents.head()"
   ]
  },
  {
   "cell_type": "code",
   "execution_count": 37,
   "metadata": {},
   "outputs": [
    {
     "data": {
      "text/html": [
       "<div>\n",
       "<style scoped>\n",
       "    .dataframe tbody tr th:only-of-type {\n",
       "        vertical-align: middle;\n",
       "    }\n",
       "\n",
       "    .dataframe tbody tr th {\n",
       "        vertical-align: top;\n",
       "    }\n",
       "\n",
       "    .dataframe thead th {\n",
       "        text-align: right;\n",
       "    }\n",
       "</style>\n",
       "<table border=\"1\" class=\"dataframe\">\n",
       "  <thead>\n",
       "    <tr style=\"text-align: right;\">\n",
       "      <th></th>\n",
       "      <th>Year</th>\n",
       "      <th>Fatal</th>\n",
       "      <th>Serious (unadjusted)</th>\n",
       "      <th>Serious (adjusted)1</th>\n",
       "      <th>FSA (Fatal/Serious) (unadjusted)</th>\n",
       "      <th>FSA (Fatal/Serious) (adjusted)1</th>\n",
       "      <th>Slight (unadjusted)</th>\n",
       "      <th>Slight (adjusted)1</th>\n",
       "      <th>Total</th>\n",
       "    </tr>\n",
       "  </thead>\n",
       "  <tbody>\n",
       "    <tr>\n",
       "      <th>0</th>\n",
       "      <td>1979</td>\n",
       "      <td>5824.0</td>\n",
       "      <td>66927.0</td>\n",
       "      <td>..</td>\n",
       "      <td>72751.0</td>\n",
       "      <td>..</td>\n",
       "      <td>182216.0</td>\n",
       "      <td>..</td>\n",
       "      <td>254967</td>\n",
       "    </tr>\n",
       "    <tr>\n",
       "      <th>1</th>\n",
       "      <td>1980</td>\n",
       "      <td>5506.0</td>\n",
       "      <td>65714.0</td>\n",
       "      <td>..</td>\n",
       "      <td>71220.0</td>\n",
       "      <td>..</td>\n",
       "      <td>179738.0</td>\n",
       "      <td>..</td>\n",
       "      <td>250958</td>\n",
       "    </tr>\n",
       "    <tr>\n",
       "      <th>2</th>\n",
       "      <td>1981</td>\n",
       "      <td>5355.0</td>\n",
       "      <td>64980.0</td>\n",
       "      <td>..</td>\n",
       "      <td>70335.0</td>\n",
       "      <td>..</td>\n",
       "      <td>177941.0</td>\n",
       "      <td>..</td>\n",
       "      <td>248276</td>\n",
       "    </tr>\n",
       "    <tr>\n",
       "      <th>3</th>\n",
       "      <td>1982</td>\n",
       "      <td>5450.0</td>\n",
       "      <td>66143.0</td>\n",
       "      <td>..</td>\n",
       "      <td>71593.0</td>\n",
       "      <td>..</td>\n",
       "      <td>184414.0</td>\n",
       "      <td>..</td>\n",
       "      <td>256007</td>\n",
       "    </tr>\n",
       "    <tr>\n",
       "      <th>4</th>\n",
       "      <td>1983</td>\n",
       "      <td>5027.0</td>\n",
       "      <td>60021.0</td>\n",
       "      <td>..</td>\n",
       "      <td>65048.0</td>\n",
       "      <td>..</td>\n",
       "      <td>177828.0</td>\n",
       "      <td>..</td>\n",
       "      <td>242876</td>\n",
       "    </tr>\n",
       "  </tbody>\n",
       "</table>\n",
       "</div>"
      ],
      "text/plain": [
       "   Year   Fatal  Serious (unadjusted) Serious (adjusted)1  \\\n",
       "0  1979  5824.0               66927.0                  ..   \n",
       "1  1980  5506.0               65714.0                  ..   \n",
       "2  1981  5355.0               64980.0                  ..   \n",
       "3  1982  5450.0               66143.0                  ..   \n",
       "4  1983  5027.0               60021.0                  ..   \n",
       "\n",
       "   FSA (Fatal/Serious) (unadjusted) FSA (Fatal/Serious) (adjusted)1  \\\n",
       "0                           72751.0                              ..   \n",
       "1                           71220.0                              ..   \n",
       "2                           70335.0                              ..   \n",
       "3                           71593.0                              ..   \n",
       "4                           65048.0                              ..   \n",
       "\n",
       "   Slight (unadjusted) Slight (adjusted)1   Total  \n",
       "0             182216.0                 ..  254967  \n",
       "1             179738.0                 ..  250958  \n",
       "2             177941.0                 ..  248276  \n",
       "3             184414.0                 ..  256007  \n",
       "4             177828.0                 ..  242876  "
      ]
     },
     "execution_count": 37,
     "metadata": {},
     "output_type": "execute_result"
    }
   ],
   "source": [
    "accidents = accidents.iloc[:41]\n",
    "accidents.head()"
   ]
  },
  {
   "cell_type": "code",
   "execution_count": 38,
   "metadata": {},
   "outputs": [
    {
     "data": {
      "image/png": "[encoded data removed]",
      "text/plain": [
       "<Figure size 1080x360 with 1 Axes>"
      ]
     },
     "metadata": {
      "needs_background": "light"
     },
     "output_type": "display_data"
    }
   ],
   "source": [
    "plt.figure(figsize=(15,5))\n",
    "plt.plot(accidents[\"Year\"], accidents[\"Total\"])\n",
    "plt.xlabel(\"Years\")\n",
    "plt.ylabel(\"Number of accidents\")\n",
    "plt.title(\"Plot of number of accidents in Great Britain over time\")\n",
    "plt.grid(True)\n",
    "plt.show()"
   ]
  },
  {
   "cell_type": "markdown",
   "metadata": {},
   "source": [
    "From the plot above we can observe that the number of accidents in Great Britain had a downward trend from the year 1980 to the year 2020."
   ]
  },
  {
   "cell_type": "markdown",
   "metadata": {},
   "source": [
    "# Loading the the data of new registered cars in Great Britain"
   ]
  },
  {
   "cell_type": "code",
   "execution_count": 39,
   "metadata": {},
   "outputs": [
    {
     "data": {
      "text/html": [
       "<div>\n",
       "<style scoped>\n",
       "    .dataframe tbody tr th:only-of-type {\n",
       "        vertical-align: middle;\n",
       "    }\n",
       "\n",
       "    .dataframe tbody tr th {\n",
       "        vertical-align: top;\n",
       "    }\n",
       "\n",
       "    .dataframe thead th {\n",
       "        text-align: right;\n",
       "    }\n",
       "</style>\n",
       "<table border=\"1\" class=\"dataframe\">\n",
       "  <thead>\n",
       "    <tr style=\"text-align: right;\">\n",
       "      <th></th>\n",
       "      <th>Date</th>\n",
       "      <th>Cars</th>\n",
       "      <th>Motorcycles</th>\n",
       "      <th>Light Goods Vehicles</th>\n",
       "      <th>Heavy Goods Vehicles</th>\n",
       "      <th>Buses &amp; coaches</th>\n",
       "      <th>Other vehicles</th>\n",
       "      <th>Total</th>\n",
       "      <th>Year-on-year change in total vehicles 2</th>\n",
       "      <th>All ULEVs</th>\n",
       "      <th>ULEV cars</th>\n",
       "      <th>Plug-in Grant Eligible Cars and Vans 4,5</th>\n",
       "      <th>Plug-in Non Grant Eligible Cars and Vans 4,5</th>\n",
       "    </tr>\n",
       "  </thead>\n",
       "  <tbody>\n",
       "    <tr>\n",
       "      <th>0</th>\n",
       "      <td>2001</td>\n",
       "      <td>2585.98</td>\n",
       "      <td>180.46</td>\n",
       "      <td>274.039</td>\n",
       "      <td>52.46</td>\n",
       "      <td>10.554</td>\n",
       "      <td>34.236</td>\n",
       "      <td>3137.73</td>\n",
       "      <td></td>\n",
       "      <td>NaN</td>\n",
       "      <td>NaN</td>\n",
       "      <td>NaN</td>\n",
       "      <td>NaN</td>\n",
       "    </tr>\n",
       "    <tr>\n",
       "      <th>1</th>\n",
       "      <td>2002</td>\n",
       "      <td>2682.13</td>\n",
       "      <td>165.79</td>\n",
       "      <td>283.568</td>\n",
       "      <td>48.676</td>\n",
       "      <td>12.298</td>\n",
       "      <td>36.924</td>\n",
       "      <td>3229.39</td>\n",
       "      <td>2.92109</td>\n",
       "      <td>NaN</td>\n",
       "      <td>NaN</td>\n",
       "      <td>NaN</td>\n",
       "      <td>NaN</td>\n",
       "    </tr>\n",
       "    <tr>\n",
       "      <th>2</th>\n",
       "      <td>2003</td>\n",
       "      <td>2646.06</td>\n",
       "      <td>160.893</td>\n",
       "      <td>317.859</td>\n",
       "      <td>53.173</td>\n",
       "      <td>13.68</td>\n",
       "      <td>40.236</td>\n",
       "      <td>3231.9</td>\n",
       "      <td>0.0777237</td>\n",
       "      <td>NaN</td>\n",
       "      <td>NaN</td>\n",
       "      <td>NaN</td>\n",
       "      <td>NaN</td>\n",
       "    </tr>\n",
       "    <tr>\n",
       "      <th>3</th>\n",
       "      <td>2004</td>\n",
       "      <td>2599.08</td>\n",
       "      <td>137.124</td>\n",
       "      <td>340.955</td>\n",
       "      <td>53.117</td>\n",
       "      <td>13.233</td>\n",
       "      <td>41.929</td>\n",
       "      <td>3185.44</td>\n",
       "      <td>-1.43755</td>\n",
       "      <td>NaN</td>\n",
       "      <td>NaN</td>\n",
       "      <td>NaN</td>\n",
       "      <td>NaN</td>\n",
       "    </tr>\n",
       "    <tr>\n",
       "      <th>4</th>\n",
       "      <td>2005</td>\n",
       "      <td>2443.45</td>\n",
       "      <td>135.635</td>\n",
       "      <td>329.723</td>\n",
       "      <td>56.864</td>\n",
       "      <td>13.137</td>\n",
       "      <td>42.56</td>\n",
       "      <td>3021.37</td>\n",
       "      <td>-5.15041</td>\n",
       "      <td>NaN</td>\n",
       "      <td>NaN</td>\n",
       "      <td>NaN</td>\n",
       "      <td>NaN</td>\n",
       "    </tr>\n",
       "  </tbody>\n",
       "</table>\n",
       "</div>"
      ],
      "text/plain": [
       "   Date     Cars Motorcycles Light Goods Vehicles Heavy Goods Vehicles  \\\n",
       "0  2001  2585.98      180.46              274.039                52.46   \n",
       "1  2002  2682.13      165.79              283.568               48.676   \n",
       "2  2003  2646.06     160.893              317.859               53.173   \n",
       "3  2004  2599.08     137.124              340.955               53.117   \n",
       "4  2005  2443.45     135.635              329.723               56.864   \n",
       "\n",
       "  Buses & coaches Other vehicles    Total  \\\n",
       "0          10.554         34.236  3137.73   \n",
       "1          12.298         36.924  3229.39   \n",
       "2           13.68         40.236   3231.9   \n",
       "3          13.233         41.929  3185.44   \n",
       "4          13.137          42.56  3021.37   \n",
       "\n",
       "  Year-on-year change in total vehicles 2 All ULEVs ULEV cars  \\\n",
       "0                                               NaN       NaN   \n",
       "1                                 2.92109       NaN       NaN   \n",
       "2                               0.0777237       NaN       NaN   \n",
       "3                                -1.43755       NaN       NaN   \n",
       "4                                -5.15041       NaN       NaN   \n",
       "\n",
       "  Plug-in Grant Eligible Cars and Vans 4,5  \\\n",
       "0                                      NaN   \n",
       "1                                      NaN   \n",
       "2                                      NaN   \n",
       "3                                      NaN   \n",
       "4                                      NaN   \n",
       "\n",
       "  Plug-in Non Grant Eligible Cars and Vans 4,5  \n",
       "0                                          NaN  \n",
       "1                                          NaN  \n",
       "2                                          NaN  \n",
       "3                                          NaN  \n",
       "4                                          NaN  "
      ]
     },
     "execution_count": 39,
     "metadata": {},
     "output_type": "execute_result"
    }
   ],
   "source": [
    "cars_df = pd.read_excel(\"veh0150.xlsx\", skiprows=9)\n",
    "cars_df.head()"
   ]
  },
  {
   "cell_type": "code",
   "execution_count": 40,
   "metadata": {},
   "outputs": [
    {
     "data": {
      "text/html": [
       "<div>\n",
       "<style scoped>\n",
       "    .dataframe tbody tr th:only-of-type {\n",
       "        vertical-align: middle;\n",
       "    }\n",
       "\n",
       "    .dataframe tbody tr th {\n",
       "        vertical-align: top;\n",
       "    }\n",
       "\n",
       "    .dataframe thead th {\n",
       "        text-align: right;\n",
       "    }\n",
       "</style>\n",
       "<table border=\"1\" class=\"dataframe\">\n",
       "  <thead>\n",
       "    <tr style=\"text-align: right;\">\n",
       "      <th></th>\n",
       "      <th>Date</th>\n",
       "      <th>Cars</th>\n",
       "      <th>Motorcycles</th>\n",
       "      <th>Light Goods Vehicles</th>\n",
       "      <th>Heavy Goods Vehicles</th>\n",
       "      <th>Buses &amp; coaches</th>\n",
       "      <th>Other vehicles</th>\n",
       "      <th>Total</th>\n",
       "      <th>Year-on-year change in total vehicles 2</th>\n",
       "      <th>All ULEVs</th>\n",
       "      <th>ULEV cars</th>\n",
       "      <th>Plug-in Grant Eligible Cars and Vans 4,5</th>\n",
       "      <th>Plug-in Non Grant Eligible Cars and Vans 4,5</th>\n",
       "    </tr>\n",
       "  </thead>\n",
       "  <tbody>\n",
       "    <tr>\n",
       "      <th>0</th>\n",
       "      <td>2001</td>\n",
       "      <td>2585.98</td>\n",
       "      <td>180.46</td>\n",
       "      <td>274.039</td>\n",
       "      <td>52.46</td>\n",
       "      <td>10.554</td>\n",
       "      <td>34.236</td>\n",
       "      <td>3137.73</td>\n",
       "      <td></td>\n",
       "      <td>NaN</td>\n",
       "      <td>NaN</td>\n",
       "      <td>NaN</td>\n",
       "      <td>NaN</td>\n",
       "    </tr>\n",
       "    <tr>\n",
       "      <th>1</th>\n",
       "      <td>2002</td>\n",
       "      <td>2682.13</td>\n",
       "      <td>165.79</td>\n",
       "      <td>283.568</td>\n",
       "      <td>48.676</td>\n",
       "      <td>12.298</td>\n",
       "      <td>36.924</td>\n",
       "      <td>3229.39</td>\n",
       "      <td>2.92109</td>\n",
       "      <td>NaN</td>\n",
       "      <td>NaN</td>\n",
       "      <td>NaN</td>\n",
       "      <td>NaN</td>\n",
       "    </tr>\n",
       "    <tr>\n",
       "      <th>2</th>\n",
       "      <td>2003</td>\n",
       "      <td>2646.06</td>\n",
       "      <td>160.893</td>\n",
       "      <td>317.859</td>\n",
       "      <td>53.173</td>\n",
       "      <td>13.68</td>\n",
       "      <td>40.236</td>\n",
       "      <td>3231.9</td>\n",
       "      <td>0.0777237</td>\n",
       "      <td>NaN</td>\n",
       "      <td>NaN</td>\n",
       "      <td>NaN</td>\n",
       "      <td>NaN</td>\n",
       "    </tr>\n",
       "    <tr>\n",
       "      <th>3</th>\n",
       "      <td>2004</td>\n",
       "      <td>2599.08</td>\n",
       "      <td>137.124</td>\n",
       "      <td>340.955</td>\n",
       "      <td>53.117</td>\n",
       "      <td>13.233</td>\n",
       "      <td>41.929</td>\n",
       "      <td>3185.44</td>\n",
       "      <td>-1.43755</td>\n",
       "      <td>NaN</td>\n",
       "      <td>NaN</td>\n",
       "      <td>NaN</td>\n",
       "      <td>NaN</td>\n",
       "    </tr>\n",
       "    <tr>\n",
       "      <th>4</th>\n",
       "      <td>2005</td>\n",
       "      <td>2443.45</td>\n",
       "      <td>135.635</td>\n",
       "      <td>329.723</td>\n",
       "      <td>56.864</td>\n",
       "      <td>13.137</td>\n",
       "      <td>42.56</td>\n",
       "      <td>3021.37</td>\n",
       "      <td>-5.15041</td>\n",
       "      <td>NaN</td>\n",
       "      <td>NaN</td>\n",
       "      <td>NaN</td>\n",
       "      <td>NaN</td>\n",
       "    </tr>\n",
       "  </tbody>\n",
       "</table>\n",
       "</div>"
      ],
      "text/plain": [
       "   Date     Cars Motorcycles Light Goods Vehicles Heavy Goods Vehicles  \\\n",
       "0  2001  2585.98      180.46              274.039                52.46   \n",
       "1  2002  2682.13      165.79              283.568               48.676   \n",
       "2  2003  2646.06     160.893              317.859               53.173   \n",
       "3  2004  2599.08     137.124              340.955               53.117   \n",
       "4  2005  2443.45     135.635              329.723               56.864   \n",
       "\n",
       "  Buses & coaches Other vehicles    Total  \\\n",
       "0          10.554         34.236  3137.73   \n",
       "1          12.298         36.924  3229.39   \n",
       "2           13.68         40.236   3231.9   \n",
       "3          13.233         41.929  3185.44   \n",
       "4          13.137          42.56  3021.37   \n",
       "\n",
       "  Year-on-year change in total vehicles 2 All ULEVs ULEV cars  \\\n",
       "0                                               NaN       NaN   \n",
       "1                                 2.92109       NaN       NaN   \n",
       "2                               0.0777237       NaN       NaN   \n",
       "3                                -1.43755       NaN       NaN   \n",
       "4                                -5.15041       NaN       NaN   \n",
       "\n",
       "  Plug-in Grant Eligible Cars and Vans 4,5  \\\n",
       "0                                      NaN   \n",
       "1                                      NaN   \n",
       "2                                      NaN   \n",
       "3                                      NaN   \n",
       "4                                      NaN   \n",
       "\n",
       "  Plug-in Non Grant Eligible Cars and Vans 4,5  \n",
       "0                                          NaN  \n",
       "1                                          NaN  \n",
       "2                                          NaN  \n",
       "3                                          NaN  \n",
       "4                                          NaN  "
      ]
     },
     "execution_count": 40,
     "metadata": {},
     "output_type": "execute_result"
    }
   ],
   "source": [
    "cars_dt = cars_df[0:19]\n",
    "cars_dt.head()"
   ]
  },
  {
   "cell_type": "code",
   "execution_count": 41,
   "metadata": {},
   "outputs": [],
   "source": [
    "cars_total = cars_dt[\"Total\"]\n",
    "dates = cars_dt[\"Date\"]"
   ]
  },
  {
   "cell_type": "code",
   "execution_count": 42,
   "metadata": {},
   "outputs": [
    {
     "data": {
      "image/png": "[encoded data removed]",
      "text/plain": [
       "<Figure size 1080x360 with 1 Axes>"
      ]
     },
     "metadata": {
      "needs_background": "light"
     },
     "output_type": "display_data"
    }
   ],
   "source": [
    "plt.figure(figsize=(15,5))\n",
    "plt.plot(cars_dt[\"Date\"], cars_total)\n",
    "plt.xlabel(\"Years\")\n",
    "plt.ylabel(\"Number of Cars\")\n",
    "plt.title(\"Plot of number of cars in Great Britain over time\")\n",
    "plt.grid(True)\n",
    "plt.show()"
   ]
  },
  {
   "cell_type": "markdown",
   "metadata": {},
   "source": [
    "From the graph we can observe that the number of new registered cars decreased dramatically from the year 2001 to the year 2010, however it had a positive trend from 2010 until it reached its peak in the year 2015."
   ]
  },
  {
   "cell_type": "markdown",
   "metadata": {},
   "source": [
    "# Comparing the two variables"
   ]
  },
  {
   "cell_type": "code",
   "execution_count": 43,
   "metadata": {},
   "outputs": [
    {
     "data": {
      "text/html": [
       "<div>\n",
       "<style scoped>\n",
       "    .dataframe tbody tr th:only-of-type {\n",
       "        vertical-align: middle;\n",
       "    }\n",
       "\n",
       "    .dataframe tbody tr th {\n",
       "        vertical-align: top;\n",
       "    }\n",
       "\n",
       "    .dataframe thead th {\n",
       "        text-align: right;\n",
       "    }\n",
       "</style>\n",
       "<table border=\"1\" class=\"dataframe\">\n",
       "  <thead>\n",
       "    <tr style=\"text-align: right;\">\n",
       "      <th></th>\n",
       "      <th>Year</th>\n",
       "      <th>Fatal</th>\n",
       "      <th>Serious (unadjusted)</th>\n",
       "      <th>Serious (adjusted)1</th>\n",
       "      <th>FSA (Fatal/Serious) (unadjusted)</th>\n",
       "      <th>FSA (Fatal/Serious) (adjusted)1</th>\n",
       "      <th>Slight (unadjusted)</th>\n",
       "      <th>Slight (adjusted)1</th>\n",
       "      <th>Total</th>\n",
       "    </tr>\n",
       "  </thead>\n",
       "  <tbody>\n",
       "    <tr>\n",
       "      <th>22</th>\n",
       "      <td>2001</td>\n",
       "      <td>3176.0</td>\n",
       "      <td>31588.0</td>\n",
       "      <td>..</td>\n",
       "      <td>34764.0</td>\n",
       "      <td>..</td>\n",
       "      <td>194250.0</td>\n",
       "      <td>..</td>\n",
       "      <td>229014</td>\n",
       "    </tr>\n",
       "    <tr>\n",
       "      <th>23</th>\n",
       "      <td>2002</td>\n",
       "      <td>3124.0</td>\n",
       "      <td>30521.0</td>\n",
       "      <td>..</td>\n",
       "      <td>33645.0</td>\n",
       "      <td>..</td>\n",
       "      <td>188106.0</td>\n",
       "      <td>..</td>\n",
       "      <td>221751</td>\n",
       "    </tr>\n",
       "    <tr>\n",
       "      <th>24</th>\n",
       "      <td>2003</td>\n",
       "      <td>3247.0</td>\n",
       "      <td>28913.0</td>\n",
       "      <td>..</td>\n",
       "      <td>32160.0</td>\n",
       "      <td>..</td>\n",
       "      <td>181870.0</td>\n",
       "      <td>..</td>\n",
       "      <td>214030</td>\n",
       "    </tr>\n",
       "    <tr>\n",
       "      <th>25</th>\n",
       "      <td>2004</td>\n",
       "      <td>2978.0</td>\n",
       "      <td>26748.0</td>\n",
       "      <td>42726.2</td>\n",
       "      <td>29726.0</td>\n",
       "      <td>45704.2</td>\n",
       "      <td>177684.0</td>\n",
       "      <td>161706</td>\n",
       "      <td>207410</td>\n",
       "    </tr>\n",
       "    <tr>\n",
       "      <th>26</th>\n",
       "      <td>2005</td>\n",
       "      <td>2913.0</td>\n",
       "      <td>25029.0</td>\n",
       "      <td>40356.6</td>\n",
       "      <td>27942.0</td>\n",
       "      <td>43269.6</td>\n",
       "      <td>170793.0</td>\n",
       "      <td>155465</td>\n",
       "      <td>198735</td>\n",
       "    </tr>\n",
       "  </tbody>\n",
       "</table>\n",
       "</div>"
      ],
      "text/plain": [
       "    Year   Fatal  Serious (unadjusted) Serious (adjusted)1  \\\n",
       "22  2001  3176.0               31588.0                  ..   \n",
       "23  2002  3124.0               30521.0                  ..   \n",
       "24  2003  3247.0               28913.0                  ..   \n",
       "25  2004  2978.0               26748.0             42726.2   \n",
       "26  2005  2913.0               25029.0             40356.6   \n",
       "\n",
       "    FSA (Fatal/Serious) (unadjusted) FSA (Fatal/Serious) (adjusted)1  \\\n",
       "22                           34764.0                              ..   \n",
       "23                           33645.0                              ..   \n",
       "24                           32160.0                              ..   \n",
       "25                           29726.0                         45704.2   \n",
       "26                           27942.0                         43269.6   \n",
       "\n",
       "    Slight (unadjusted) Slight (adjusted)1   Total  \n",
       "22             194250.0                 ..  229014  \n",
       "23             188106.0                 ..  221751  \n",
       "24             181870.0                 ..  214030  \n",
       "25             177684.0             161706  207410  \n",
       "26             170793.0             155465  198735  "
      ]
     },
     "execution_count": 43,
     "metadata": {},
     "output_type": "execute_result"
    }
   ],
   "source": [
    "data_accidents = accidents[22:41]\n",
    "data_accidents.head()"
   ]
  },
  {
   "cell_type": "code",
   "execution_count": 44,
   "metadata": {},
   "outputs": [
    {
     "data": {
      "text/plain": [
       "array([229014, 221751, 214030, 207410, 198735, 189161, 182115, 170591,\n",
       "       163554, 154414, 151474, 145571, 138660, 146322, 140056, 136621,\n",
       "       129982, 122635, 117536], dtype=object)"
      ]
     },
     "execution_count": 44,
     "metadata": {},
     "output_type": "execute_result"
    }
   ],
   "source": [
    "accidents_array = np.array(data_accidents.Total)\n",
    "accidents_array"
   ]
  },
  {
   "cell_type": "code",
   "execution_count": 45,
   "metadata": {},
   "outputs": [
    {
     "data": {
      "text/plain": [
       "array([3137.731, 3229.387, 3231.897, 3185.437, 3021.374, 2913.578,\n",
       "       2996.914, 2672.185, 2371.213, 2417.842, 2381.516, 2469.79, 2716.12,\n",
       "       2973.739, 3211.975, 3295.957, 3102.887, 2932.332, 2901.33],\n",
       "      dtype=object)"
      ]
     },
     "execution_count": 45,
     "metadata": {},
     "output_type": "execute_result"
    }
   ],
   "source": [
    "cars_array = np.array(cars_dt.Total)\n",
    "cars_array"
   ]
  },
  {
   "cell_type": "code",
   "execution_count": 46,
   "metadata": {},
   "outputs": [
    {
     "data": {
      "text/html": [
       "<div>\n",
       "<style scoped>\n",
       "    .dataframe tbody tr th:only-of-type {\n",
       "        vertical-align: middle;\n",
       "    }\n",
       "\n",
       "    .dataframe tbody tr th {\n",
       "        vertical-align: top;\n",
       "    }\n",
       "\n",
       "    .dataframe thead th {\n",
       "        text-align: right;\n",
       "    }\n",
       "</style>\n",
       "<table border=\"1\" class=\"dataframe\">\n",
       "  <thead>\n",
       "    <tr style=\"text-align: right;\">\n",
       "      <th></th>\n",
       "      <th>Accidents</th>\n",
       "      <th>Cars</th>\n",
       "    </tr>\n",
       "  </thead>\n",
       "  <tbody>\n",
       "    <tr>\n",
       "      <th>0</th>\n",
       "      <td>229014</td>\n",
       "      <td>3137.73</td>\n",
       "    </tr>\n",
       "    <tr>\n",
       "      <th>1</th>\n",
       "      <td>221751</td>\n",
       "      <td>3229.39</td>\n",
       "    </tr>\n",
       "    <tr>\n",
       "      <th>2</th>\n",
       "      <td>214030</td>\n",
       "      <td>3231.9</td>\n",
       "    </tr>\n",
       "    <tr>\n",
       "      <th>3</th>\n",
       "      <td>207410</td>\n",
       "      <td>3185.44</td>\n",
       "    </tr>\n",
       "    <tr>\n",
       "      <th>4</th>\n",
       "      <td>198735</td>\n",
       "      <td>3021.37</td>\n",
       "    </tr>\n",
       "  </tbody>\n",
       "</table>\n",
       "</div>"
      ],
      "text/plain": [
       "  Accidents     Cars\n",
       "0    229014  3137.73\n",
       "1    221751  3229.39\n",
       "2    214030   3231.9\n",
       "3    207410  3185.44\n",
       "4    198735  3021.37"
      ]
     },
     "execution_count": 46,
     "metadata": {},
     "output_type": "execute_result"
    }
   ],
   "source": [
    "combined_data = pd.DataFrame({\"Accidents\":accidents_array, \"Cars\":cars_array})\n",
    "combined_data.head()"
   ]
  },
  {
   "cell_type": "code",
   "execution_count": 47,
   "metadata": {},
   "outputs": [],
   "source": [
    "combined_data = combined_data.astype(float)"
   ]
  },
  {
   "cell_type": "code",
   "execution_count": 48,
   "metadata": {},
   "outputs": [
    {
     "data": {
      "text/plain": [
       "0.3288471615555784"
      ]
     },
     "execution_count": 48,
     "metadata": {},
     "output_type": "execute_result"
    }
   ],
   "source": [
    "combined_data[\"Accidents\"].corr(combined_data[\"Cars\"])"
   ]
  },
  {
   "cell_type": "markdown",
   "metadata": {},
   "source": [
    "From the correlation figure we got of 0.3288 we can deduce that there is actually a weak relationship between the number of new registered cars and the number of accidents in Great Britain."
   ]
  },
  {
   "cell_type": "markdown",
   "metadata": {},
   "source": [
    "# Building linear regression model for dates and number of new registered cars"
   ]
  },
  {
   "cell_type": "code",
   "execution_count": 49,
   "metadata": {},
   "outputs": [],
   "source": [
    "df_dates = pd.DataFrame(dates)\n",
    "df_accidents = pd.DataFrame(accidents_array)\n",
    "df_cars = pd.DataFrame(cars_array)"
   ]
  },
  {
   "cell_type": "code",
   "execution_count": 50,
   "metadata": {},
   "outputs": [],
   "source": [
    "lin_model = linear_model.LinearRegression()\n",
    "the_model = lin_model.fit(df_dates, df_cars)"
   ]
  },
  {
   "cell_type": "code",
   "execution_count": 51,
   "metadata": {},
   "outputs": [
    {
     "data": {
      "text/plain": [
       "array([[2810.94159825]])"
      ]
     },
     "execution_count": 51,
     "metadata": {},
     "output_type": "execute_result"
    }
   ],
   "source": [
    "date_new = pd.DataFrame([2021])\n",
    "cars_predict = the_model.predict(date_new)\n",
    "cars_predict"
   ]
  },
  {
   "cell_type": "markdown",
   "metadata": {},
   "source": [
    "From the above figure we can see that in the year 2021 there will be approximately 2810 cars in great Britain."
   ]
  },
  {
   "cell_type": "markdown",
   "metadata": {},
   "source": [
    "# Building linear regression model for accidents and number of registered cars"
   ]
  },
  {
   "cell_type": "code",
   "execution_count": 52,
   "metadata": {},
   "outputs": [],
   "source": [
    "lm = linear_model.LinearRegression()\n",
    "model = lm.fit(df_cars, df_accidents)"
   ]
  },
  {
   "cell_type": "code",
   "execution_count": 53,
   "metadata": {},
   "outputs": [
    {
     "data": {
      "text/plain": [
       "array([[162878.20631224]])"
      ]
     },
     "execution_count": 53,
     "metadata": {},
     "output_type": "execute_result"
    }
   ],
   "source": [
    "cars_new = pd.DataFrame([2810.94159825])\n",
    "accidents_predict = model.predict(cars_new)\n",
    "accidents_predict"
   ]
  },
  {
   "cell_type": "markdown",
   "metadata": {},
   "source": [
    "From the above figure we can predict that there will be 162,878 accidents in Great Britain in the year 2021."
   ]
  },
  {
   "cell_type": "markdown",
   "metadata": {},
   "source": [
    "# Findings\n",
    "\n",
    "- The number of accidents has a negative trend from the year 1979 to the year 2020\n",
    "- There is a weak relationship between the number of new registered cars and the number of accidents\n",
    "- There will be 2810 cars in great Britain in the year 2021\n",
    "- There will be approximately 162,878 accidents in Great Britain in the year 2021."
   ]
  },
  {
   "cell_type": "markdown",
   "metadata": {},
   "source": [
    "# Question 4"
   ]
  },
  {
   "cell_type": "code",
   "execution_count": 54,
   "metadata": {},
   "outputs": [],
   "source": [
    "import quandl\n",
    "import pandas as pd\n",
    "import numpy as np\n",
    "import matplotlib.pyplot as plt\n",
    "import scipy.stats as stats\n",
    "import matplotlib.pyplot as plt\n",
    "from sklearn import linear_model\n",
    "from sklearn.utils.validation import check_array\n",
    "import datetime as dt"
   ]
  },
  {
   "cell_type": "markdown",
   "metadata": {},
   "source": [
    "# Extracting the Israeli unemployment data"
   ]
  },
  {
   "cell_type": "code",
   "execution_count": 55,
   "metadata": {},
   "outputs": [
    {
     "data": {
      "text/html": [
       "<div>\n",
       "<style scoped>\n",
       "    .dataframe tbody tr th:only-of-type {\n",
       "        vertical-align: middle;\n",
       "    }\n",
       "\n",
       "    .dataframe tbody tr th {\n",
       "        vertical-align: top;\n",
       "    }\n",
       "\n",
       "    .dataframe thead th {\n",
       "        text-align: right;\n",
       "    }\n",
       "</style>\n",
       "<table border=\"1\" class=\"dataframe\">\n",
       "  <thead>\n",
       "    <tr style=\"text-align: right;\">\n",
       "      <th></th>\n",
       "      <th>Value</th>\n",
       "    </tr>\n",
       "    <tr>\n",
       "      <th>Date</th>\n",
       "      <th></th>\n",
       "    </tr>\n",
       "  </thead>\n",
       "  <tbody>\n",
       "    <tr>\n",
       "      <th>1980-12-31</th>\n",
       "      <td>4.780</td>\n",
       "    </tr>\n",
       "    <tr>\n",
       "      <th>1981-12-31</th>\n",
       "      <td>5.115</td>\n",
       "    </tr>\n",
       "    <tr>\n",
       "      <th>1982-12-31</th>\n",
       "      <td>5.048</td>\n",
       "    </tr>\n",
       "    <tr>\n",
       "      <th>1983-12-31</th>\n",
       "      <td>4.562</td>\n",
       "    </tr>\n",
       "    <tr>\n",
       "      <th>1984-12-31</th>\n",
       "      <td>5.893</td>\n",
       "    </tr>\n",
       "  </tbody>\n",
       "</table>\n",
       "</div>"
      ],
      "text/plain": [
       "            Value\n",
       "Date             \n",
       "1980-12-31  4.780\n",
       "1981-12-31  5.115\n",
       "1982-12-31  5.048\n",
       "1983-12-31  4.562\n",
       "1984-12-31  5.893"
      ]
     },
     "execution_count": 55,
     "metadata": {},
     "output_type": "execute_result"
    }
   ],
   "source": [
    "data = quandl.get(\"ODA/ISR_LUR\", authtoken=\"Aii73vy1c3CR5xabTJQt\",start_date= \"1980-01-01\", end_date='2013-12-31')\n",
    "data.head()"
   ]
  },
  {
   "cell_type": "code",
   "execution_count": 56,
   "metadata": {},
   "outputs": [
    {
     "data": {
      "text/html": [
       "<div>\n",
       "<style scoped>\n",
       "    .dataframe tbody tr th:only-of-type {\n",
       "        vertical-align: middle;\n",
       "    }\n",
       "\n",
       "    .dataframe tbody tr th {\n",
       "        vertical-align: top;\n",
       "    }\n",
       "\n",
       "    .dataframe thead th {\n",
       "        text-align: right;\n",
       "    }\n",
       "</style>\n",
       "<table border=\"1\" class=\"dataframe\">\n",
       "  <thead>\n",
       "    <tr style=\"text-align: right;\">\n",
       "      <th></th>\n",
       "      <th>Date</th>\n",
       "      <th>Value</th>\n",
       "    </tr>\n",
       "  </thead>\n",
       "  <tbody>\n",
       "    <tr>\n",
       "      <th>0</th>\n",
       "      <td>1980-12-31</td>\n",
       "      <td>4.780</td>\n",
       "    </tr>\n",
       "    <tr>\n",
       "      <th>1</th>\n",
       "      <td>1981-12-31</td>\n",
       "      <td>5.115</td>\n",
       "    </tr>\n",
       "    <tr>\n",
       "      <th>2</th>\n",
       "      <td>1982-12-31</td>\n",
       "      <td>5.048</td>\n",
       "    </tr>\n",
       "    <tr>\n",
       "      <th>3</th>\n",
       "      <td>1983-12-31</td>\n",
       "      <td>4.562</td>\n",
       "    </tr>\n",
       "    <tr>\n",
       "      <th>4</th>\n",
       "      <td>1984-12-31</td>\n",
       "      <td>5.893</td>\n",
       "    </tr>\n",
       "  </tbody>\n",
       "</table>\n",
       "</div>"
      ],
      "text/plain": [
       "        Date  Value\n",
       "0 1980-12-31  4.780\n",
       "1 1981-12-31  5.115\n",
       "2 1982-12-31  5.048\n",
       "3 1983-12-31  4.562\n",
       "4 1984-12-31  5.893"
      ]
     },
     "execution_count": 56,
     "metadata": {},
     "output_type": "execute_result"
    }
   ],
   "source": [
    "data.reset_index(inplace=True)\n",
    "data.head()"
   ]
  },
  {
   "cell_type": "markdown",
   "metadata": {},
   "source": [
    "# Building the regression Model"
   ]
  },
  {
   "cell_type": "code",
   "execution_count": 57,
   "metadata": {},
   "outputs": [],
   "source": [
    "date = data['Date']\n",
    "date = pd.to_datetime(date)"
   ]
  },
  {
   "cell_type": "code",
   "execution_count": 58,
   "metadata": {},
   "outputs": [
    {
     "data": {
      "text/plain": [
       "0    1980\n",
       "1    1981\n",
       "2    1982\n",
       "3    1983\n",
       "4    1984\n",
       "Name: Date, dtype: int64"
      ]
     },
     "execution_count": 58,
     "metadata": {},
     "output_type": "execute_result"
    }
   ],
   "source": [
    "date = date.dt.year\n",
    "date[:5]"
   ]
  },
  {
   "cell_type": "code",
   "execution_count": 59,
   "metadata": {},
   "outputs": [],
   "source": [
    "Y_test = data[\"Value\"]\n",
    "Y_test = pd.DataFrame(Y_test)"
   ]
  },
  {
   "cell_type": "code",
   "execution_count": 60,
   "metadata": {},
   "outputs": [],
   "source": [
    "X_test = date\n",
    "X_test = pd.DataFrame(X_test)"
   ]
  },
  {
   "cell_type": "code",
   "execution_count": 61,
   "metadata": {},
   "outputs": [],
   "source": [
    "lm = linear_model.LinearRegression()\n",
    "model = lm.fit(X_test, Y_test)"
   ]
  },
  {
   "cell_type": "code",
   "execution_count": 62,
   "metadata": {},
   "outputs": [
    {
     "data": {
      "text/plain": [
       "Text(0.5, 0, 'Date')"
      ]
     },
     "execution_count": 62,
     "metadata": {},
     "output_type": "execute_result"
    },
    {
     "data": {
      "image/png": "[encoded data removed]",
      "text/plain": [
       "<Figure size 1080x360 with 1 Axes>"
      ]
     },
     "metadata": {
      "needs_background": "light"
     },
     "output_type": "display_data"
    }
   ],
   "source": [
    "plt.figure(figsize=(15,5))\n",
    "plt.scatter(date,Y_test , color=\"gainsboro\")\n",
    "plt.plot(X_test, model.predict(X_test), color='royalblue', linewidth=3)\n",
    "plt.title(\"Plot of unemployment Values vs Date and its prediction\", fontsize=20)\n",
    "plt.ylabel(\"Values\")\n",
    "plt.xlabel(\"Date\")"
   ]
  },
  {
   "cell_type": "markdown",
   "metadata": {},
   "source": [
    "# Predicting the unemployment rate by 2020"
   ]
  },
  {
   "cell_type": "code",
   "execution_count": 63,
   "metadata": {},
   "outputs": [
    {
     "data": {
      "text/plain": [
       "array([[11.36117464]])"
      ]
     },
     "execution_count": 63,
     "metadata": {},
     "output_type": "execute_result"
    }
   ],
   "source": [
    "X_new = [2020]\n",
    "X_new = pd.DataFrame(X_new)\n",
    "Y_predict = model.predict(X_new)\n",
    "Y_predict"
   ]
  },
  {
   "cell_type": "markdown",
   "metadata": {},
   "source": [
    "# Evaluationg the performance of the model using MAPE"
   ]
  },
  {
   "cell_type": "code",
   "execution_count": 64,
   "metadata": {},
   "outputs": [],
   "source": [
    "def mean_absolute_percentage_error(y_true, y_pred): \n",
    "    y_true, y_pred = np.array(y_true), np.array(y_pred)\n",
    "    return np.mean(np.abs((y_true - y_pred) / y_true)) * 100"
   ]
  },
  {
   "cell_type": "code",
   "execution_count": 65,
   "metadata": {},
   "outputs": [],
   "source": [
    "y_pred = model.predict(X_test)"
   ]
  },
  {
   "cell_type": "code",
   "execution_count": 66,
   "metadata": {},
   "outputs": [
    {
     "data": {
      "text/plain": [
       "23.71081555955634"
      ]
     },
     "execution_count": 66,
     "metadata": {},
     "output_type": "execute_result"
    }
   ],
   "source": [
    "mean_absolute_percentage_error(Y_test,y_pred)"
   ]
  }
 ],
 "metadata": {
  "kernelspec": {
   "display_name": "Python 3",
   "language": "python",
   "name": "python3"
  },
  "language_info": {
   "codemirror_mode": {
    "name": "ipython",
    "version": 3
   },
   "file_extension": ".py",
   "mimetype": "text/x-python",
   "name": "python",
   "nbconvert_exporter": "python",
   "pygments_lexer": "ipython3",
   "version": "3.8.3"
  }
 },
 "nbformat": 4,
 "nbformat_minor": 4
}
